{
  "nbformat": 4,
  "nbformat_minor": 0,
  "metadata": {
    "kernelspec": {
      "display_name": "Python 3",
      "language": "python",
      "name": "python3"
    },
    "language_info": {
      "codemirror_mode": {
        "name": "ipython",
        "version": 3
      },
      "file_extension": ".py",
      "mimetype": "text/x-python",
      "name": "python",
      "nbconvert_exporter": "python",
      "pygments_lexer": "ipython3",
      "version": "3.6.6"
    },
    "colab": {
      "provenance": [],
      "collapsed_sections": [
        "XzcW0PgwwHkv",
        "HM6wf7FuwWnN",
        "IjDg6T00vGuH",
        "2fNVamMakS72",
        "B-B1OQOi8HkR",
        "IjyLZMI3Wmrp",
        "HtDq47O8ddd-",
        "176hqP9Gxhlq",
        "8x7lBtrF4MVn",
        "XBYwzo2AOso1",
        "b-0Ee39ccegs",
        "T9MKgi8xG1-Y"
      ]
    }
  },
  "cells": [
    {
      "cell_type": "markdown",
      "metadata": {
        "id": "Y06xIdG26kRF"
      },
      "source": [
        "## <b> The Play Store apps data has enormous potential to drive app-making businesses to success. Actionable insights can be drawn for developers to work on and capture the Android market. </b>\n",
        "\n",
        "## <b> Each app (row) has values for catergory, rating, size, and more. Another dataset contains customer reviews of the android apps.</b>\n",
        "\n",
        "## <b> Explore and analyze the data to discover key factors responsible for app engagement and success. </b>"
      ]
    },
    {
      "cell_type": "markdown",
      "source": [
        "# **Colab Content Table:**\n",
        "\n",
        "\n",
        "->  Importing the required libraries\n",
        "\n",
        "->  Fetch the dataset from the given format\n",
        "\n",
        "->  Data Analyse and understanding the columns(CSV or TSV)\n",
        "\n",
        "->  Data Exploration Operations:-\n",
        "\n",
        "1.   Data cleaning and Store it in proper format\n",
        "2.   Remove/replace null values\n",
        "3.   Drop dulicate rows\n",
        "4.   Change in required datatypes\n",
        "\n",
        "->   Some important observations on data.\n",
        "\n",
        "->   Exploratory Data Analysis\n",
        "\n",
        "->   Findout some Co-relations in dataset \n",
        "\n"
      ],
      "metadata": {
        "id": "Ws0od9D-hEvM"
      }
    },
    {
      "cell_type": "markdown",
      "source": [
        "# Importing Libraries and Dataset"
      ],
      "metadata": {
        "id": "XzcW0PgwwHkv"
      }
    },
    {
      "cell_type": "code",
      "metadata": {
        "id": "dByMsuzT8Tnw"
      },
      "source": [
        "#Importing Libraries like: Numpy, Pandas, Datetime, Matplotlib\n",
        "import numpy as np\n",
        "import pandas as pd\n",
        "from datetime import datetime\n",
        "import seaborn as sns\n",
        "import matplotlib.pyplot as plt\n",
        "%matplotlib inline"
      ],
      "execution_count": null,
      "outputs": []
    },
    {
      "cell_type": "code",
      "source": [
        "from google.colab import drive\n",
        "drive.mount('/content/drive')"
      ],
      "metadata": {
        "colab": {
          "base_uri": "https://localhost:8080/"
        },
        "id": "HKIzBSZ_e_So",
        "outputId": "1a41e523-8dfa-47e6-df50-1e98a34ad25e"
      },
      "execution_count": null,
      "outputs": [
        {
          "output_type": "stream",
          "name": "stdout",
          "text": [
            "Drive already mounted at /content/drive; to attempt to forcibly remount, call drive.mount(\"/content/drive\", force_remount=True).\n"
          ]
        }
      ]
    },
    {
      "cell_type": "code",
      "source": [
        "#Importing/Fetching datasets from CSV format\n",
        "playstore_data = pd.read_csv('/content/drive/MyDrive/Colab Notebooks/All Capstone Projects /Capstone Project - Exploratory Data Analysis (EDA)/Play Store Data.csv')\n",
        "user_review_data = pd.read_csv('/content/drive/MyDrive/Colab Notebooks/All Capstone Projects /Capstone Project - Exploratory Data Analysis (EDA)/User Reviews.csv')"
      ],
      "metadata": {
        "id": "61lAtLRufkiZ"
      },
      "execution_count": null,
      "outputs": []
    },
    {
      "cell_type": "markdown",
      "source": [
        "# **Understanding of dataset and its columns:**"
      ],
      "metadata": {
        "id": "HM6wf7FuwWnN"
      }
    },
    {
      "cell_type": "markdown",
      "source": [
        "**Exploratory Data Analysis:-**  EDA refers to the critical process of performing initial investigations on data so as to discover patterns , to spot anomalies, to test hypothesis and to check assumptions with the help of summary statistics and graphical representations.\n",
        "\n",
        "We have provided two CSV files (Play Store Data, User Review) for \"Playstore App Data\" analysis and we have gone through that and found some columns those are:-\n",
        "\n",
        "***Play Store Dataset has 13 columns those are:-***\n",
        "\n",
        "App:- App column denotes the different application names present in playstore.\n",
        "\n",
        "Category:- Category column represents the category of that application like: News, Game, Entertainment etc.\n",
        "\n",
        "Review:- Review column represents the Number of reviews provided by the user.\n",
        "\n",
        "Rating:- Rating column represents the rating provided by the user to the application.\n",
        "\n",
        "Size:- size column represents the size of the application.\n",
        "\n",
        "Installs:- Installs column represents the number of installs done for the particular application.\n",
        "\n",
        "Type:- It denotes the type of application either it is Free or Paid.\n",
        "\n",
        "Price:- It denotes the price of the app in dollars.\n",
        "\n",
        "Content Rating:- Content rating represents the rating means which has provided the rating like: Mature 17+, Everyone , Teen etc.\n",
        "\n",
        "Genres:- Genres reprents the genre of the particular application like: Games has different genre as Action, Adventure, Puzzle etc.\n",
        "\n",
        "Last Updated:- it denotes application Last Updated date.\n",
        "\n",
        "Current Version:- it provideds the current version of the application.\n",
        "\n",
        "Android Version:- provides the application compatible Android version.\n",
        "\n",
        "***User Review Dataset has 5 columns those are:-***\n",
        "\n",
        "App:- It denotes the App name.\n",
        "\n",
        "Translated Review:- This column provides us the different reviews provided by the user for particular application.\n",
        "\n",
        "Sentiment:- User response provided for the application: Postive, Negative , Neutral.\n",
        "\n",
        "Sentiment Polarity:- Sentiment polarity is float which lies in the range of [-1,1] where 1 means positive statement and -1 means a negative statement.\n",
        "\n",
        "Sentiment Subjectivity:-Subjective sentences generally refer to personal opinion, emotion or judgment whereas objective refers to factual information"
      ],
      "metadata": {
        "id": "FKatcdtrwqoP"
      }
    },
    {
      "cell_type": "markdown",
      "source": [
        "# Data Exploration"
      ],
      "metadata": {
        "id": "IjDg6T00vGuH"
      }
    },
    {
      "cell_type": "code",
      "source": [
        "#Understanding Dataset by doing some Data Exploration Operations\n",
        "playstore_data.shape,user_review_data.shape"
      ],
      "metadata": {
        "colab": {
          "base_uri": "https://localhost:8080/"
        },
        "id": "y1LmdubggYxc",
        "outputId": "e6e963b1-352f-479b-919d-175b4f8cc5e6"
      },
      "execution_count": null,
      "outputs": [
        {
          "output_type": "execute_result",
          "data": {
            "text/plain": [
              "((10841, 13), (64295, 5))"
            ]
          },
          "metadata": {},
          "execution_count": 6
        }
      ]
    },
    {
      "cell_type": "code",
      "source": [
        "playstore_data.info()"
      ],
      "metadata": {
        "colab": {
          "base_uri": "https://localhost:8080/"
        },
        "id": "1TvdshNGf-Nx",
        "outputId": "20b48427-47cd-4a02-8a31-4081c26e2d1f"
      },
      "execution_count": null,
      "outputs": [
        {
          "output_type": "stream",
          "name": "stdout",
          "text": [
            "<class 'pandas.core.frame.DataFrame'>\n",
            "RangeIndex: 10841 entries, 0 to 10840\n",
            "Data columns (total 13 columns):\n",
            " #   Column          Non-Null Count  Dtype  \n",
            "---  ------          --------------  -----  \n",
            " 0   App             10841 non-null  object \n",
            " 1   Category        10841 non-null  object \n",
            " 2   Rating          9367 non-null   float64\n",
            " 3   Reviews         10841 non-null  object \n",
            " 4   Size            10841 non-null  object \n",
            " 5   Installs        10841 non-null  object \n",
            " 6   Type            10840 non-null  object \n",
            " 7   Price           10841 non-null  object \n",
            " 8   Content Rating  10840 non-null  object \n",
            " 9   Genres          10841 non-null  object \n",
            " 10  Last Updated    10841 non-null  object \n",
            " 11  Current Ver     10833 non-null  object \n",
            " 12  Android Ver     10838 non-null  object \n",
            "dtypes: float64(1), object(12)\n",
            "memory usage: 1.1+ MB\n"
          ]
        }
      ]
    },
    {
      "cell_type": "code",
      "source": [
        "playstore_data.head()"
      ],
      "metadata": {
        "colab": {
          "base_uri": "https://localhost:8080/",
          "height": 354
        },
        "id": "-oh89C5awrkA",
        "outputId": "17bb5868-1b95-4ab1-c688-44199fea47fc"
      },
      "execution_count": null,
      "outputs": [
        {
          "output_type": "execute_result",
          "data": {
            "text/plain": [
              "                                                 App        Category  Rating  \\\n",
              "0     Photo Editor & Candy Camera & Grid & ScrapBook  ART_AND_DESIGN     4.1   \n",
              "1                                Coloring book moana  ART_AND_DESIGN     3.9   \n",
              "2  U Launcher Lite – FREE Live Cool Themes, Hide ...  ART_AND_DESIGN     4.7   \n",
              "3                              Sketch - Draw & Paint  ART_AND_DESIGN     4.5   \n",
              "4              Pixel Draw - Number Art Coloring Book  ART_AND_DESIGN     4.3   \n",
              "\n",
              "  Reviews  Size     Installs  Type Price Content Rating  \\\n",
              "0     159   19M      10,000+  Free     0       Everyone   \n",
              "1     967   14M     500,000+  Free     0       Everyone   \n",
              "2   87510  8.7M   5,000,000+  Free     0       Everyone   \n",
              "3  215644   25M  50,000,000+  Free     0           Teen   \n",
              "4     967  2.8M     100,000+  Free     0       Everyone   \n",
              "\n",
              "                      Genres      Last Updated         Current Ver  \\\n",
              "0               Art & Design   January 7, 2018               1.0.0   \n",
              "1  Art & Design;Pretend Play  January 15, 2018               2.0.0   \n",
              "2               Art & Design    August 1, 2018               1.2.4   \n",
              "3               Art & Design      June 8, 2018  Varies with device   \n",
              "4    Art & Design;Creativity     June 20, 2018                 1.1   \n",
              "\n",
              "    Android Ver  \n",
              "0  4.0.3 and up  \n",
              "1  4.0.3 and up  \n",
              "2  4.0.3 and up  \n",
              "3    4.2 and up  \n",
              "4    4.4 and up  "
            ],
            "text/html": [
              "\n",
              "  <div id=\"df-49401f7f-b790-4d2d-844c-1ab8933c7240\">\n",
              "    <div class=\"colab-df-container\">\n",
              "      <div>\n",
              "<style scoped>\n",
              "    .dataframe tbody tr th:only-of-type {\n",
              "        vertical-align: middle;\n",
              "    }\n",
              "\n",
              "    .dataframe tbody tr th {\n",
              "        vertical-align: top;\n",
              "    }\n",
              "\n",
              "    .dataframe thead th {\n",
              "        text-align: right;\n",
              "    }\n",
              "</style>\n",
              "<table border=\"1\" class=\"dataframe\">\n",
              "  <thead>\n",
              "    <tr style=\"text-align: right;\">\n",
              "      <th></th>\n",
              "      <th>App</th>\n",
              "      <th>Category</th>\n",
              "      <th>Rating</th>\n",
              "      <th>Reviews</th>\n",
              "      <th>Size</th>\n",
              "      <th>Installs</th>\n",
              "      <th>Type</th>\n",
              "      <th>Price</th>\n",
              "      <th>Content Rating</th>\n",
              "      <th>Genres</th>\n",
              "      <th>Last Updated</th>\n",
              "      <th>Current Ver</th>\n",
              "      <th>Android Ver</th>\n",
              "    </tr>\n",
              "  </thead>\n",
              "  <tbody>\n",
              "    <tr>\n",
              "      <th>0</th>\n",
              "      <td>Photo Editor &amp; Candy Camera &amp; Grid &amp; ScrapBook</td>\n",
              "      <td>ART_AND_DESIGN</td>\n",
              "      <td>4.1</td>\n",
              "      <td>159</td>\n",
              "      <td>19M</td>\n",
              "      <td>10,000+</td>\n",
              "      <td>Free</td>\n",
              "      <td>0</td>\n",
              "      <td>Everyone</td>\n",
              "      <td>Art &amp; Design</td>\n",
              "      <td>January 7, 2018</td>\n",
              "      <td>1.0.0</td>\n",
              "      <td>4.0.3 and up</td>\n",
              "    </tr>\n",
              "    <tr>\n",
              "      <th>1</th>\n",
              "      <td>Coloring book moana</td>\n",
              "      <td>ART_AND_DESIGN</td>\n",
              "      <td>3.9</td>\n",
              "      <td>967</td>\n",
              "      <td>14M</td>\n",
              "      <td>500,000+</td>\n",
              "      <td>Free</td>\n",
              "      <td>0</td>\n",
              "      <td>Everyone</td>\n",
              "      <td>Art &amp; Design;Pretend Play</td>\n",
              "      <td>January 15, 2018</td>\n",
              "      <td>2.0.0</td>\n",
              "      <td>4.0.3 and up</td>\n",
              "    </tr>\n",
              "    <tr>\n",
              "      <th>2</th>\n",
              "      <td>U Launcher Lite – FREE Live Cool Themes, Hide ...</td>\n",
              "      <td>ART_AND_DESIGN</td>\n",
              "      <td>4.7</td>\n",
              "      <td>87510</td>\n",
              "      <td>8.7M</td>\n",
              "      <td>5,000,000+</td>\n",
              "      <td>Free</td>\n",
              "      <td>0</td>\n",
              "      <td>Everyone</td>\n",
              "      <td>Art &amp; Design</td>\n",
              "      <td>August 1, 2018</td>\n",
              "      <td>1.2.4</td>\n",
              "      <td>4.0.3 and up</td>\n",
              "    </tr>\n",
              "    <tr>\n",
              "      <th>3</th>\n",
              "      <td>Sketch - Draw &amp; Paint</td>\n",
              "      <td>ART_AND_DESIGN</td>\n",
              "      <td>4.5</td>\n",
              "      <td>215644</td>\n",
              "      <td>25M</td>\n",
              "      <td>50,000,000+</td>\n",
              "      <td>Free</td>\n",
              "      <td>0</td>\n",
              "      <td>Teen</td>\n",
              "      <td>Art &amp; Design</td>\n",
              "      <td>June 8, 2018</td>\n",
              "      <td>Varies with device</td>\n",
              "      <td>4.2 and up</td>\n",
              "    </tr>\n",
              "    <tr>\n",
              "      <th>4</th>\n",
              "      <td>Pixel Draw - Number Art Coloring Book</td>\n",
              "      <td>ART_AND_DESIGN</td>\n",
              "      <td>4.3</td>\n",
              "      <td>967</td>\n",
              "      <td>2.8M</td>\n",
              "      <td>100,000+</td>\n",
              "      <td>Free</td>\n",
              "      <td>0</td>\n",
              "      <td>Everyone</td>\n",
              "      <td>Art &amp; Design;Creativity</td>\n",
              "      <td>June 20, 2018</td>\n",
              "      <td>1.1</td>\n",
              "      <td>4.4 and up</td>\n",
              "    </tr>\n",
              "  </tbody>\n",
              "</table>\n",
              "</div>\n",
              "      <button class=\"colab-df-convert\" onclick=\"convertToInteractive('df-49401f7f-b790-4d2d-844c-1ab8933c7240')\"\n",
              "              title=\"Convert this dataframe to an interactive table.\"\n",
              "              style=\"display:none;\">\n",
              "        \n",
              "  <svg xmlns=\"http://www.w3.org/2000/svg\" height=\"24px\"viewBox=\"0 0 24 24\"\n",
              "       width=\"24px\">\n",
              "    <path d=\"M0 0h24v24H0V0z\" fill=\"none\"/>\n",
              "    <path d=\"M18.56 5.44l.94 2.06.94-2.06 2.06-.94-2.06-.94-.94-2.06-.94 2.06-2.06.94zm-11 1L8.5 8.5l.94-2.06 2.06-.94-2.06-.94L8.5 2.5l-.94 2.06-2.06.94zm10 10l.94 2.06.94-2.06 2.06-.94-2.06-.94-.94-2.06-.94 2.06-2.06.94z\"/><path d=\"M17.41 7.96l-1.37-1.37c-.4-.4-.92-.59-1.43-.59-.52 0-1.04.2-1.43.59L10.3 9.45l-7.72 7.72c-.78.78-.78 2.05 0 2.83L4 21.41c.39.39.9.59 1.41.59.51 0 1.02-.2 1.41-.59l7.78-7.78 2.81-2.81c.8-.78.8-2.07 0-2.86zM5.41 20L4 18.59l7.72-7.72 1.47 1.35L5.41 20z\"/>\n",
              "  </svg>\n",
              "      </button>\n",
              "      \n",
              "  <style>\n",
              "    .colab-df-container {\n",
              "      display:flex;\n",
              "      flex-wrap:wrap;\n",
              "      gap: 12px;\n",
              "    }\n",
              "\n",
              "    .colab-df-convert {\n",
              "      background-color: #E8F0FE;\n",
              "      border: none;\n",
              "      border-radius: 50%;\n",
              "      cursor: pointer;\n",
              "      display: none;\n",
              "      fill: #1967D2;\n",
              "      height: 32px;\n",
              "      padding: 0 0 0 0;\n",
              "      width: 32px;\n",
              "    }\n",
              "\n",
              "    .colab-df-convert:hover {\n",
              "      background-color: #E2EBFA;\n",
              "      box-shadow: 0px 1px 2px rgba(60, 64, 67, 0.3), 0px 1px 3px 1px rgba(60, 64, 67, 0.15);\n",
              "      fill: #174EA6;\n",
              "    }\n",
              "\n",
              "    [theme=dark] .colab-df-convert {\n",
              "      background-color: #3B4455;\n",
              "      fill: #D2E3FC;\n",
              "    }\n",
              "\n",
              "    [theme=dark] .colab-df-convert:hover {\n",
              "      background-color: #434B5C;\n",
              "      box-shadow: 0px 1px 3px 1px rgba(0, 0, 0, 0.15);\n",
              "      filter: drop-shadow(0px 1px 2px rgba(0, 0, 0, 0.3));\n",
              "      fill: #FFFFFF;\n",
              "    }\n",
              "  </style>\n",
              "\n",
              "      <script>\n",
              "        const buttonEl =\n",
              "          document.querySelector('#df-49401f7f-b790-4d2d-844c-1ab8933c7240 button.colab-df-convert');\n",
              "        buttonEl.style.display =\n",
              "          google.colab.kernel.accessAllowed ? 'block' : 'none';\n",
              "\n",
              "        async function convertToInteractive(key) {\n",
              "          const element = document.querySelector('#df-49401f7f-b790-4d2d-844c-1ab8933c7240');\n",
              "          const dataTable =\n",
              "            await google.colab.kernel.invokeFunction('convertToInteractive',\n",
              "                                                     [key], {});\n",
              "          if (!dataTable) return;\n",
              "\n",
              "          const docLinkHtml = 'Like what you see? Visit the ' +\n",
              "            '<a target=\"_blank\" href=https://colab.research.google.com/notebooks/data_table.ipynb>data table notebook</a>'\n",
              "            + ' to learn more about interactive tables.';\n",
              "          element.innerHTML = '';\n",
              "          dataTable['output_type'] = 'display_data';\n",
              "          await google.colab.output.renderOutput(dataTable, element);\n",
              "          const docLink = document.createElement('div');\n",
              "          docLink.innerHTML = docLinkHtml;\n",
              "          element.appendChild(docLink);\n",
              "        }\n",
              "      </script>\n",
              "    </div>\n",
              "  </div>\n",
              "  "
            ]
          },
          "metadata": {},
          "execution_count": 8
        }
      ]
    },
    {
      "cell_type": "code",
      "source": [
        "playstore_data.isna().sum()"
      ],
      "metadata": {
        "colab": {
          "base_uri": "https://localhost:8080/"
        },
        "id": "_QMuLuwOl83D",
        "outputId": "1e15546a-eb8c-42c3-b15e-0edb59da2ae5"
      },
      "execution_count": null,
      "outputs": [
        {
          "output_type": "execute_result",
          "data": {
            "text/plain": [
              "App                  0\n",
              "Category             0\n",
              "Rating            1474\n",
              "Reviews              0\n",
              "Size                 0\n",
              "Installs             0\n",
              "Type                 1\n",
              "Price                0\n",
              "Content Rating       1\n",
              "Genres               0\n",
              "Last Updated         0\n",
              "Current Ver          8\n",
              "Android Ver          3\n",
              "dtype: int64"
            ]
          },
          "metadata": {},
          "execution_count": 9
        }
      ]
    },
    {
      "cell_type": "code",
      "source": [
        "#Change the data where value is na with the mode values of the column\n",
        "Rating_Mode = playstore_data['Rating'].mode().values[0]\n",
        "Type_Mode = playstore_data['Type'].mode().values[0]\n",
        "Content_Rating_Mode = playstore_data['Content Rating'].mode().values[0]\n",
        "Android_Ver_Mode = playstore_data['Android Ver'].mode().values[0]\n",
        "\n",
        "playstore_data[playstore_data['Rating'].isna()] = Rating_Mode\n",
        "playstore_data[playstore_data['Type'].isna()] = Type_Mode\n",
        "playstore_data[playstore_data['Content Rating'].isna()] = Content_Rating_Mode\n",
        "playstore_data[playstore_data['Android Ver'].isna()] = Android_Ver_Mode\n",
        "\n",
        "playstore_data['Current Ver'].fillna('Not Available',inplace=True)"
      ],
      "metadata": {
        "id": "oBmbqpjAxGDv"
      },
      "execution_count": null,
      "outputs": []
    },
    {
      "cell_type": "code",
      "source": [
        "playstore_data.isna().sum()"
      ],
      "metadata": {
        "colab": {
          "base_uri": "https://localhost:8080/"
        },
        "id": "zom4L4UI1Yo9",
        "outputId": "995f76f7-940e-47c6-d3c2-d838fae51714"
      },
      "execution_count": null,
      "outputs": [
        {
          "output_type": "execute_result",
          "data": {
            "text/plain": [
              "App               0\n",
              "Category          0\n",
              "Rating            0\n",
              "Reviews           0\n",
              "Size              0\n",
              "Installs          0\n",
              "Type              0\n",
              "Price             0\n",
              "Content Rating    0\n",
              "Genres            0\n",
              "Last Updated      0\n",
              "Current Ver       0\n",
              "Android Ver       0\n",
              "dtype: int64"
            ]
          },
          "metadata": {},
          "execution_count": 11
        }
      ]
    },
    {
      "cell_type": "markdown",
      "source": [
        "## Here we have to change the respective Datatypes for the columns like: \n",
        "\n",
        "*   Rating (to Float)\n",
        "*   Review (to int)\n",
        "*   Size in Kilobytes (to int)\n",
        "*   Installs (in int)\n",
        "*   Price (in Integers)\n",
        "*   Last Updated (in Datetime)"
      ],
      "metadata": {
        "id": "hXY9QVLV7I9N"
      }
    },
    {
      "cell_type": "code",
      "source": [
        "playstore_data.drop([4453],axis=0,inplace=True)"
      ],
      "metadata": {
        "id": "Z_pUSAU607YI"
      },
      "execution_count": null,
      "outputs": []
    },
    {
      "cell_type": "code",
      "source": [
        "#There are some rows which have same data in every column hence we are dropping those rows\n",
        "Data_to_drop = playstore_data[playstore_data['App'] == playstore_data['Rating']]\n",
        "playstore_data.drop(Data_to_drop.index[:],axis=0,inplace=True)"
      ],
      "metadata": {
        "id": "r4uPYG-X4y5b"
      },
      "execution_count": null,
      "outputs": []
    },
    {
      "cell_type": "code",
      "source": [
        "#Changing the columns in their respective datatypes with proper format and Remove 4453 the default row\n",
        "try:\n",
        "  playstore_data.rename({'Price':'Price (in $)'},inplace=True,axis=1)\n",
        "\n",
        "  playstore_data['Reviews']=playstore_data['Reviews'].replace('4.1 and up',0).replace('Everyone',0).astype(int)\n",
        "\n",
        "  playstore_data['Rating'] = playstore_data['Rating'].replace('4.1 and up',playstore_data['Rating'].mean()).replace('Everyone',playstore_data['Rating'].mean()).astype(float)\n",
        "\n",
        "  playstore_data['Installs']=playstore_data['Installs'].apply(lambda x : int(x[0:(len(x)-1)].replace(',','')))\n",
        "\n",
        "  playstore_data['Price (in $)'] = playstore_data['Price (in $)'].replace('4.1 and up',0).replace('Everyone',0).apply(lambda x: float(x.replace('$','')))\n",
        "\n",
        "  playstore_data['Last Update Year'] = pd.DatetimeIndex(pd.to_datetime(playstore_data['Last Updated'].apply(lambda x : x[-4:]),format='%Y')).year\n",
        "  \n",
        "except:\n",
        "  print('Float Value Problem')"
      ],
      "metadata": {
        "id": "Eq08dvqX6he3"
      },
      "execution_count": null,
      "outputs": []
    },
    {
      "cell_type": "code",
      "source": [
        "playstore_data.info()"
      ],
      "metadata": {
        "colab": {
          "base_uri": "https://localhost:8080/"
        },
        "id": "ZX8zVhdBr2jk",
        "outputId": "b1155e03-6209-4756-b12b-d1784f1e3490"
      },
      "execution_count": null,
      "outputs": [
        {
          "output_type": "execute_result",
          "data": {
            "text/plain": [
              "array([4.1, 3.9, 4.7, 4.5, 4.3, 4.4, 3.8, 4.2, 4.6, 3.2, 4. , 4.8, 4.9,\n",
              "       3.6, 3.7, 3.3, 3.4, 3.5, 3.1, 5. , 2.6, 3. , 1.9, 2.5, 2.8, 2.7,\n",
              "       1. , 2.9, 2.3, 2.2, 1.7, 2. , 1.8, 2.4, 1.6, 2.1, 1.4, 1.5, 1.2])"
            ]
          },
          "metadata": {},
          "execution_count": 40
        }
      ]
    },
    {
      "cell_type": "code",
      "source": [
        "user_review_data.info()"
      ],
      "metadata": {
        "colab": {
          "base_uri": "https://localhost:8080/"
        },
        "id": "ekZQPuwvgMfK",
        "outputId": "3d42fe9a-3deb-4ec8-a8c6-86715c5c5c18"
      },
      "execution_count": null,
      "outputs": [
        {
          "output_type": "stream",
          "name": "stdout",
          "text": [
            "<class 'pandas.core.frame.DataFrame'>\n",
            "RangeIndex: 64295 entries, 0 to 64294\n",
            "Data columns (total 5 columns):\n",
            " #   Column                  Non-Null Count  Dtype  \n",
            "---  ------                  --------------  -----  \n",
            " 0   App                     64295 non-null  object \n",
            " 1   Translated_Review       37427 non-null  object \n",
            " 2   Sentiment               37432 non-null  object \n",
            " 3   Sentiment_Polarity      37432 non-null  float64\n",
            " 4   Sentiment_Subjectivity  37432 non-null  float64\n",
            "dtypes: float64(2), object(3)\n",
            "memory usage: 2.5+ MB\n"
          ]
        }
      ]
    },
    {
      "cell_type": "code",
      "source": [
        "user_review_data.isna().sum()"
      ],
      "metadata": {
        "colab": {
          "base_uri": "https://localhost:8080/"
        },
        "id": "QGj-TOBP5CFL",
        "outputId": "3f4a1bb5-338b-4376-85f1-ac099465d6f0"
      },
      "execution_count": null,
      "outputs": [
        {
          "output_type": "execute_result",
          "data": {
            "text/plain": [
              "App                           0\n",
              "Translated_Review         26868\n",
              "Sentiment                 26863\n",
              "Sentiment_Polarity        26863\n",
              "Sentiment_Subjectivity    26863\n",
              "dtype: int64"
            ]
          },
          "metadata": {},
          "execution_count": 17
        }
      ]
    },
    {
      "cell_type": "code",
      "source": [
        "user_review_data.dropna(subset=['Translated_Review','Sentiment','Sentiment_Polarity','Sentiment_Subjectivity'],inplace=True)"
      ],
      "metadata": {
        "id": "N5UsyNVd5YyR"
      },
      "execution_count": null,
      "outputs": []
    },
    {
      "cell_type": "code",
      "source": [
        "user_review_data.info()"
      ],
      "metadata": {
        "colab": {
          "base_uri": "https://localhost:8080/"
        },
        "id": "VmuaieEs6WIf",
        "outputId": "87b63c39-e2e1-4f9a-fb3c-36984a20db36"
      },
      "execution_count": null,
      "outputs": [
        {
          "output_type": "stream",
          "name": "stdout",
          "text": [
            "<class 'pandas.core.frame.DataFrame'>\n",
            "Int64Index: 37427 entries, 0 to 64230\n",
            "Data columns (total 5 columns):\n",
            " #   Column                  Non-Null Count  Dtype  \n",
            "---  ------                  --------------  -----  \n",
            " 0   App                     37427 non-null  object \n",
            " 1   Translated_Review       37427 non-null  object \n",
            " 2   Sentiment               37427 non-null  object \n",
            " 3   Sentiment_Polarity      37427 non-null  float64\n",
            " 4   Sentiment_Subjectivity  37427 non-null  float64\n",
            "dtypes: float64(2), object(3)\n",
            "memory usage: 1.7+ MB\n"
          ]
        }
      ]
    },
    {
      "cell_type": "code",
      "source": [
        "user_review_data.shape"
      ],
      "metadata": {
        "colab": {
          "base_uri": "https://localhost:8080/"
        },
        "id": "zyjR0Kgrm5ts",
        "outputId": "3b6bb5cb-eca7-4639-9b70-9dfe9f5abf73"
      },
      "execution_count": null,
      "outputs": [
        {
          "output_type": "execute_result",
          "data": {
            "text/plain": [
              "(37427, 5)"
            ]
          },
          "metadata": {},
          "execution_count": 20
        }
      ]
    },
    {
      "cell_type": "markdown",
      "source": [
        "# Some Queries on which data need to be analysed, Those are:-\n",
        "Q1: List all different Categories and find the best application in Each Category in terms of installs  and also plot he bar graph for max installs in each category?\n",
        "\n",
        "Q2: Pie Chart for number of applications(Category-wise) available on Playstore.\n",
        "\n",
        "Q3: Correlation Heatmap among: Rating , Review, Install, Price.\n",
        "\n",
        "Q4: Corr Graph Between Sentiment Polarity and Sentiment Subjectivity for All the 'Positive' Sentiment.\n",
        "\n",
        "Q5: Find how many products are listed by 'Google and List all them also find their average Rating.\n",
        "\n",
        "Q6: Which genre of Games has most number of Applications?\n",
        "\n",
        "Q7: In Which year most of the applications got updated and show it through a LinePlot?\n",
        "\n",
        "Q8: Which category has maximum number of 'Postive' and 'Negative' Sentiments?"
      ],
      "metadata": {
        "id": "SAzlb1PohOXd"
      }
    },
    {
      "cell_type": "markdown",
      "source": [
        "# Q1: List all different Categories and find the best application in Each Category in terms of installs  and also plot he bar graph for max installs in each category?"
      ],
      "metadata": {
        "id": "2fNVamMakS72"
      }
    },
    {
      "cell_type": "code",
      "source": [
        "playstore_data.shape"
      ],
      "metadata": {
        "colab": {
          "base_uri": "https://localhost:8080/"
        },
        "id": "0gbL4e-okWG-",
        "outputId": "3c1cdfcb-f57a-40d8-f0ac-32a58d538bf3"
      },
      "execution_count": null,
      "outputs": [
        {
          "output_type": "execute_result",
          "data": {
            "text/plain": [
              "(9364, 14)"
            ]
          },
          "metadata": {},
          "execution_count": 21
        }
      ]
    },
    {
      "cell_type": "code",
      "source": [
        "playstore_data.info()"
      ],
      "metadata": {
        "colab": {
          "base_uri": "https://localhost:8080/"
        },
        "id": "qGWSXBhXmjiR",
        "outputId": "a2ce6cb0-512d-4c26-f5cd-51eacad9fe2e"
      },
      "execution_count": null,
      "outputs": [
        {
          "output_type": "stream",
          "name": "stdout",
          "text": [
            "<class 'pandas.core.frame.DataFrame'>\n",
            "Int64Index: 9364 entries, 0 to 10840\n",
            "Data columns (total 14 columns):\n",
            " #   Column            Non-Null Count  Dtype  \n",
            "---  ------            --------------  -----  \n",
            " 0   App               9364 non-null   object \n",
            " 1   Category          9364 non-null   object \n",
            " 2   Rating            9364 non-null   float64\n",
            " 3   Reviews           9364 non-null   int64  \n",
            " 4   Size              9364 non-null   object \n",
            " 5   Installs          9364 non-null   int64  \n",
            " 6   Type              9364 non-null   object \n",
            " 7   Price (in $)      9364 non-null   float64\n",
            " 8   Content Rating    9364 non-null   object \n",
            " 9   Genres            9364 non-null   object \n",
            " 10  Last Updated      9364 non-null   object \n",
            " 11  Current Ver       9364 non-null   object \n",
            " 12  Android Ver       9364 non-null   object \n",
            " 13  Last Update Year  9364 non-null   int64  \n",
            "dtypes: float64(2), int64(3), object(9)\n",
            "memory usage: 1.1+ MB\n"
          ]
        }
      ]
    },
    {
      "cell_type": "code",
      "source": [
        "#Find All the apps having maximum installs from different category\n",
        "Every_Catergory_Best_App_Installation_Basis = playstore_data.groupby(['Category'],as_index=False)['Installs'].idxmax()\n",
        "max_install_catagory_index = pd.Series(Every_Catergory_Best_App_Installation_Basis['Installs'])\n",
        "playstore_data.loc[max_install_catagory_index,['Category','App','Installs']]"
      ],
      "metadata": {
        "colab": {
          "base_uri": "https://localhost:8080/",
          "height": 1000
        },
        "id": "rRCe5CAJnSXk",
        "outputId": "cb9983c4-4a39-49f5-bf3b-5a747adc2f07"
      },
      "execution_count": null,
      "outputs": [
        {
          "output_type": "execute_result",
          "data": {
            "text/plain": [
              "                 Category                                                App  \\\n",
              "3          ART_AND_DESIGN                              Sketch - Draw & Paint   \n",
              "72      AUTO_AND_VEHICLES      Android Auto - Maps, Media, Messaging & Voice   \n",
              "117                BEAUTY                      Beauty Camera - Selfie Camera   \n",
              "152   BOOKS_AND_REFERENCE                                  Google Play Books   \n",
              "194              BUSINESS             OfficeSuite : Free Office + PDF Editor   \n",
              "297                COMICS                         LINE WEBTOON - Free Comics   \n",
              "335         COMMUNICATION           Messenger – Text and Video Chat for Free   \n",
              "482                DATING                     Zoosk Dating App: Meet Singles   \n",
              "699             EDUCATION                     Duolingo: Learn Languages Free   \n",
              "865         ENTERTAINMENT                                  Google Play Games   \n",
              "1005               EVENTS                         Ticketmaster Event Tickets   \n",
              "5856               FAMILY                                  Google Play Games   \n",
              "1083              FINANCE                                         Google Pay   \n",
              "1176       FOOD_AND_DRINK                                         McDonald's   \n",
              "1654                 GAME                                     Subway Surfers   \n",
              "5596   HEALTH_AND_FITNESS                                     Samsung Health   \n",
              "1446       HOUSE_AND_HOME  Zillow: Find Houses for Sale & Apartments for ...   \n",
              "1523   LIBRARIES_AND_DEMO                         Aviary Stickers: Free Pack   \n",
              "4587            LIFESTYLE                                             Tinder   \n",
              "3820  MAPS_AND_NAVIGATION  Waze - GPS, Maps, Traffic Alerts & Live Naviga...   \n",
              "2310              MEDICAL                                     Blood Pressure   \n",
              "3736   NEWS_AND_MAGAZINES                                        Google News   \n",
              "7229            PARENTING     Pregnancy Tracker & Countdown to Baby Due Date   \n",
              "3354      PERSONALIZATION                      ZEDGE™ Ringtones & Wallpapers   \n",
              "2808          PHOTOGRAPHY                                      Google Photos   \n",
              "3454         PRODUCTIVITY                                       Google Drive   \n",
              "2655             SHOPPING                           Wish - Shopping Made Fun   \n",
              "2544               SOCIAL                                           Facebook   \n",
              "3953               SPORTS                                        8 Ball Pool   \n",
              "3234                TOOLS                                             Google   \n",
              "3117     TRAVEL_AND_LOCAL                          Maps - Navigate & Explore   \n",
              "3665        VIDEO_PLAYERS                                            YouTube   \n",
              "3626              WEATHER  The Weather Channel: Rain Forecast & Storm Alerts   \n",
              "\n",
              "        Installs  \n",
              "3       50000000  \n",
              "72      10000000  \n",
              "117     10000000  \n",
              "152   1000000000  \n",
              "194    100000000  \n",
              "297     10000000  \n",
              "335   1000000000  \n",
              "482     10000000  \n",
              "699    100000000  \n",
              "865   1000000000  \n",
              "1005     5000000  \n",
              "5856  1000000000  \n",
              "1083   100000000  \n",
              "1176    10000000  \n",
              "1654  1000000000  \n",
              "5596   500000000  \n",
              "1446    10000000  \n",
              "1523    10000000  \n",
              "4587   100000000  \n",
              "3820   100000000  \n",
              "2310     5000000  \n",
              "3736  1000000000  \n",
              "7229    10000000  \n",
              "3354   100000000  \n",
              "2808  1000000000  \n",
              "3454  1000000000  \n",
              "2655   100000000  \n",
              "2544  1000000000  \n",
              "3953   100000000  \n",
              "3234  1000000000  \n",
              "3117  1000000000  \n",
              "3665  1000000000  \n",
              "3626    50000000  "
            ],
            "text/html": [
              "\n",
              "  <div id=\"df-1f2e5d8a-00b1-41b2-991d-0b5b3df26738\">\n",
              "    <div class=\"colab-df-container\">\n",
              "      <div>\n",
              "<style scoped>\n",
              "    .dataframe tbody tr th:only-of-type {\n",
              "        vertical-align: middle;\n",
              "    }\n",
              "\n",
              "    .dataframe tbody tr th {\n",
              "        vertical-align: top;\n",
              "    }\n",
              "\n",
              "    .dataframe thead th {\n",
              "        text-align: right;\n",
              "    }\n",
              "</style>\n",
              "<table border=\"1\" class=\"dataframe\">\n",
              "  <thead>\n",
              "    <tr style=\"text-align: right;\">\n",
              "      <th></th>\n",
              "      <th>Category</th>\n",
              "      <th>App</th>\n",
              "      <th>Installs</th>\n",
              "    </tr>\n",
              "  </thead>\n",
              "  <tbody>\n",
              "    <tr>\n",
              "      <th>3</th>\n",
              "      <td>ART_AND_DESIGN</td>\n",
              "      <td>Sketch - Draw &amp; Paint</td>\n",
              "      <td>50000000</td>\n",
              "    </tr>\n",
              "    <tr>\n",
              "      <th>72</th>\n",
              "      <td>AUTO_AND_VEHICLES</td>\n",
              "      <td>Android Auto - Maps, Media, Messaging &amp; Voice</td>\n",
              "      <td>10000000</td>\n",
              "    </tr>\n",
              "    <tr>\n",
              "      <th>117</th>\n",
              "      <td>BEAUTY</td>\n",
              "      <td>Beauty Camera - Selfie Camera</td>\n",
              "      <td>10000000</td>\n",
              "    </tr>\n",
              "    <tr>\n",
              "      <th>152</th>\n",
              "      <td>BOOKS_AND_REFERENCE</td>\n",
              "      <td>Google Play Books</td>\n",
              "      <td>1000000000</td>\n",
              "    </tr>\n",
              "    <tr>\n",
              "      <th>194</th>\n",
              "      <td>BUSINESS</td>\n",
              "      <td>OfficeSuite : Free Office + PDF Editor</td>\n",
              "      <td>100000000</td>\n",
              "    </tr>\n",
              "    <tr>\n",
              "      <th>297</th>\n",
              "      <td>COMICS</td>\n",
              "      <td>LINE WEBTOON - Free Comics</td>\n",
              "      <td>10000000</td>\n",
              "    </tr>\n",
              "    <tr>\n",
              "      <th>335</th>\n",
              "      <td>COMMUNICATION</td>\n",
              "      <td>Messenger – Text and Video Chat for Free</td>\n",
              "      <td>1000000000</td>\n",
              "    </tr>\n",
              "    <tr>\n",
              "      <th>482</th>\n",
              "      <td>DATING</td>\n",
              "      <td>Zoosk Dating App: Meet Singles</td>\n",
              "      <td>10000000</td>\n",
              "    </tr>\n",
              "    <tr>\n",
              "      <th>699</th>\n",
              "      <td>EDUCATION</td>\n",
              "      <td>Duolingo: Learn Languages Free</td>\n",
              "      <td>100000000</td>\n",
              "    </tr>\n",
              "    <tr>\n",
              "      <th>865</th>\n",
              "      <td>ENTERTAINMENT</td>\n",
              "      <td>Google Play Games</td>\n",
              "      <td>1000000000</td>\n",
              "    </tr>\n",
              "    <tr>\n",
              "      <th>1005</th>\n",
              "      <td>EVENTS</td>\n",
              "      <td>Ticketmaster Event Tickets</td>\n",
              "      <td>5000000</td>\n",
              "    </tr>\n",
              "    <tr>\n",
              "      <th>5856</th>\n",
              "      <td>FAMILY</td>\n",
              "      <td>Google Play Games</td>\n",
              "      <td>1000000000</td>\n",
              "    </tr>\n",
              "    <tr>\n",
              "      <th>1083</th>\n",
              "      <td>FINANCE</td>\n",
              "      <td>Google Pay</td>\n",
              "      <td>100000000</td>\n",
              "    </tr>\n",
              "    <tr>\n",
              "      <th>1176</th>\n",
              "      <td>FOOD_AND_DRINK</td>\n",
              "      <td>McDonald's</td>\n",
              "      <td>10000000</td>\n",
              "    </tr>\n",
              "    <tr>\n",
              "      <th>1654</th>\n",
              "      <td>GAME</td>\n",
              "      <td>Subway Surfers</td>\n",
              "      <td>1000000000</td>\n",
              "    </tr>\n",
              "    <tr>\n",
              "      <th>5596</th>\n",
              "      <td>HEALTH_AND_FITNESS</td>\n",
              "      <td>Samsung Health</td>\n",
              "      <td>500000000</td>\n",
              "    </tr>\n",
              "    <tr>\n",
              "      <th>1446</th>\n",
              "      <td>HOUSE_AND_HOME</td>\n",
              "      <td>Zillow: Find Houses for Sale &amp; Apartments for ...</td>\n",
              "      <td>10000000</td>\n",
              "    </tr>\n",
              "    <tr>\n",
              "      <th>1523</th>\n",
              "      <td>LIBRARIES_AND_DEMO</td>\n",
              "      <td>Aviary Stickers: Free Pack</td>\n",
              "      <td>10000000</td>\n",
              "    </tr>\n",
              "    <tr>\n",
              "      <th>4587</th>\n",
              "      <td>LIFESTYLE</td>\n",
              "      <td>Tinder</td>\n",
              "      <td>100000000</td>\n",
              "    </tr>\n",
              "    <tr>\n",
              "      <th>3820</th>\n",
              "      <td>MAPS_AND_NAVIGATION</td>\n",
              "      <td>Waze - GPS, Maps, Traffic Alerts &amp; Live Naviga...</td>\n",
              "      <td>100000000</td>\n",
              "    </tr>\n",
              "    <tr>\n",
              "      <th>2310</th>\n",
              "      <td>MEDICAL</td>\n",
              "      <td>Blood Pressure</td>\n",
              "      <td>5000000</td>\n",
              "    </tr>\n",
              "    <tr>\n",
              "      <th>3736</th>\n",
              "      <td>NEWS_AND_MAGAZINES</td>\n",
              "      <td>Google News</td>\n",
              "      <td>1000000000</td>\n",
              "    </tr>\n",
              "    <tr>\n",
              "      <th>7229</th>\n",
              "      <td>PARENTING</td>\n",
              "      <td>Pregnancy Tracker &amp; Countdown to Baby Due Date</td>\n",
              "      <td>10000000</td>\n",
              "    </tr>\n",
              "    <tr>\n",
              "      <th>3354</th>\n",
              "      <td>PERSONALIZATION</td>\n",
              "      <td>ZEDGE™ Ringtones &amp; Wallpapers</td>\n",
              "      <td>100000000</td>\n",
              "    </tr>\n",
              "    <tr>\n",
              "      <th>2808</th>\n",
              "      <td>PHOTOGRAPHY</td>\n",
              "      <td>Google Photos</td>\n",
              "      <td>1000000000</td>\n",
              "    </tr>\n",
              "    <tr>\n",
              "      <th>3454</th>\n",
              "      <td>PRODUCTIVITY</td>\n",
              "      <td>Google Drive</td>\n",
              "      <td>1000000000</td>\n",
              "    </tr>\n",
              "    <tr>\n",
              "      <th>2655</th>\n",
              "      <td>SHOPPING</td>\n",
              "      <td>Wish - Shopping Made Fun</td>\n",
              "      <td>100000000</td>\n",
              "    </tr>\n",
              "    <tr>\n",
              "      <th>2544</th>\n",
              "      <td>SOCIAL</td>\n",
              "      <td>Facebook</td>\n",
              "      <td>1000000000</td>\n",
              "    </tr>\n",
              "    <tr>\n",
              "      <th>3953</th>\n",
              "      <td>SPORTS</td>\n",
              "      <td>8 Ball Pool</td>\n",
              "      <td>100000000</td>\n",
              "    </tr>\n",
              "    <tr>\n",
              "      <th>3234</th>\n",
              "      <td>TOOLS</td>\n",
              "      <td>Google</td>\n",
              "      <td>1000000000</td>\n",
              "    </tr>\n",
              "    <tr>\n",
              "      <th>3117</th>\n",
              "      <td>TRAVEL_AND_LOCAL</td>\n",
              "      <td>Maps - Navigate &amp; Explore</td>\n",
              "      <td>1000000000</td>\n",
              "    </tr>\n",
              "    <tr>\n",
              "      <th>3665</th>\n",
              "      <td>VIDEO_PLAYERS</td>\n",
              "      <td>YouTube</td>\n",
              "      <td>1000000000</td>\n",
              "    </tr>\n",
              "    <tr>\n",
              "      <th>3626</th>\n",
              "      <td>WEATHER</td>\n",
              "      <td>The Weather Channel: Rain Forecast &amp; Storm Alerts</td>\n",
              "      <td>50000000</td>\n",
              "    </tr>\n",
              "  </tbody>\n",
              "</table>\n",
              "</div>\n",
              "      <button class=\"colab-df-convert\" onclick=\"convertToInteractive('df-1f2e5d8a-00b1-41b2-991d-0b5b3df26738')\"\n",
              "              title=\"Convert this dataframe to an interactive table.\"\n",
              "              style=\"display:none;\">\n",
              "        \n",
              "  <svg xmlns=\"http://www.w3.org/2000/svg\" height=\"24px\"viewBox=\"0 0 24 24\"\n",
              "       width=\"24px\">\n",
              "    <path d=\"M0 0h24v24H0V0z\" fill=\"none\"/>\n",
              "    <path d=\"M18.56 5.44l.94 2.06.94-2.06 2.06-.94-2.06-.94-.94-2.06-.94 2.06-2.06.94zm-11 1L8.5 8.5l.94-2.06 2.06-.94-2.06-.94L8.5 2.5l-.94 2.06-2.06.94zm10 10l.94 2.06.94-2.06 2.06-.94-2.06-.94-.94-2.06-.94 2.06-2.06.94z\"/><path d=\"M17.41 7.96l-1.37-1.37c-.4-.4-.92-.59-1.43-.59-.52 0-1.04.2-1.43.59L10.3 9.45l-7.72 7.72c-.78.78-.78 2.05 0 2.83L4 21.41c.39.39.9.59 1.41.59.51 0 1.02-.2 1.41-.59l7.78-7.78 2.81-2.81c.8-.78.8-2.07 0-2.86zM5.41 20L4 18.59l7.72-7.72 1.47 1.35L5.41 20z\"/>\n",
              "  </svg>\n",
              "      </button>\n",
              "      \n",
              "  <style>\n",
              "    .colab-df-container {\n",
              "      display:flex;\n",
              "      flex-wrap:wrap;\n",
              "      gap: 12px;\n",
              "    }\n",
              "\n",
              "    .colab-df-convert {\n",
              "      background-color: #E8F0FE;\n",
              "      border: none;\n",
              "      border-radius: 50%;\n",
              "      cursor: pointer;\n",
              "      display: none;\n",
              "      fill: #1967D2;\n",
              "      height: 32px;\n",
              "      padding: 0 0 0 0;\n",
              "      width: 32px;\n",
              "    }\n",
              "\n",
              "    .colab-df-convert:hover {\n",
              "      background-color: #E2EBFA;\n",
              "      box-shadow: 0px 1px 2px rgba(60, 64, 67, 0.3), 0px 1px 3px 1px rgba(60, 64, 67, 0.15);\n",
              "      fill: #174EA6;\n",
              "    }\n",
              "\n",
              "    [theme=dark] .colab-df-convert {\n",
              "      background-color: #3B4455;\n",
              "      fill: #D2E3FC;\n",
              "    }\n",
              "\n",
              "    [theme=dark] .colab-df-convert:hover {\n",
              "      background-color: #434B5C;\n",
              "      box-shadow: 0px 1px 3px 1px rgba(0, 0, 0, 0.15);\n",
              "      filter: drop-shadow(0px 1px 2px rgba(0, 0, 0, 0.3));\n",
              "      fill: #FFFFFF;\n",
              "    }\n",
              "  </style>\n",
              "\n",
              "      <script>\n",
              "        const buttonEl =\n",
              "          document.querySelector('#df-1f2e5d8a-00b1-41b2-991d-0b5b3df26738 button.colab-df-convert');\n",
              "        buttonEl.style.display =\n",
              "          google.colab.kernel.accessAllowed ? 'block' : 'none';\n",
              "\n",
              "        async function convertToInteractive(key) {\n",
              "          const element = document.querySelector('#df-1f2e5d8a-00b1-41b2-991d-0b5b3df26738');\n",
              "          const dataTable =\n",
              "            await google.colab.kernel.invokeFunction('convertToInteractive',\n",
              "                                                     [key], {});\n",
              "          if (!dataTable) return;\n",
              "\n",
              "          const docLinkHtml = 'Like what you see? Visit the ' +\n",
              "            '<a target=\"_blank\" href=https://colab.research.google.com/notebooks/data_table.ipynb>data table notebook</a>'\n",
              "            + ' to learn more about interactive tables.';\n",
              "          element.innerHTML = '';\n",
              "          dataTable['output_type'] = 'display_data';\n",
              "          await google.colab.output.renderOutput(dataTable, element);\n",
              "          const docLink = document.createElement('div');\n",
              "          docLink.innerHTML = docLinkHtml;\n",
              "          element.appendChild(docLink);\n",
              "        }\n",
              "      </script>\n",
              "    </div>\n",
              "  </div>\n",
              "  "
            ]
          },
          "metadata": {},
          "execution_count": 23
        }
      ]
    },
    {
      "cell_type": "code",
      "source": [
        "#All the category having avg number of installs of all the applications in it\n",
        "Every_Category_Mean_Installs = playstore_data.groupby(['Category'],as_index=True).agg({'Installs':\"mean\"}).rename(columns ={'Installs':'Installs in Million'})\n",
        "final_df_for_plot = Every_Category_Mean_Installs['Installs in Million'].apply(lambda x: x/1000000)\n",
        "final_df_for_plot"
      ],
      "metadata": {
        "colab": {
          "base_uri": "https://localhost:8080/"
        },
        "id": "KDevkW_z0KYz",
        "outputId": "18696eb4-c517-4b20-b10f-91864e7f3f63"
      },
      "execution_count": null,
      "outputs": [
        {
          "output_type": "execute_result",
          "data": {
            "text/plain": [
              "Category\n",
              "ART_AND_DESIGN          2.003760\n",
              "AUTO_AND_VEHICLES       0.727805\n",
              "BEAUTY                  0.640862\n",
              "BOOKS_AND_REFERENCE    10.793773\n",
              "BUSINESS                3.306165\n",
              "COMICS                  0.966140\n",
              "COMMUNICATION          99.534273\n",
              "DATING                  1.355360\n",
              "EDUCATION               5.621626\n",
              "ENTERTAINMENT          19.256107\n",
              "EVENTS                  0.354431\n",
              "FAMILY                  5.871609\n",
              "FINANCE                 2.713970\n",
              "FOOD_AND_DRINK          2.511722\n",
              "GAME                   31.983466\n",
              "HEALTH_AND_FITNESS      5.330156\n",
              "HOUSE_AND_HOME          2.218184\n",
              "LIBRARIES_AND_DEMO      0.955123\n",
              "LIFESTYLE               1.711978\n",
              "MAPS_AND_NAVIGATION     5.840867\n",
              "MEDICAL                 0.152016\n",
              "NEWS_AND_MAGAZINES     32.172578\n",
              "PARENTING               0.622322\n",
              "PERSONALIZATION         7.453019\n",
              "PHOTOGRAPHY            31.824111\n",
              "PRODUCTIVITY           40.387664\n",
              "SHOPPING               13.646351\n",
              "SOCIAL                 54.323712\n",
              "SPORTS                  5.489440\n",
              "TOOLS                  15.600442\n",
              "TRAVEL_AND_LOCAL       30.393183\n",
              "VIDEO_PLAYERS          38.886857\n",
              "WEATHER                 5.681287\n",
              "Name: Installs in Million, dtype: float64"
            ]
          },
          "metadata": {},
          "execution_count": 24
        }
      ]
    },
    {
      "cell_type": "code",
      "source": [
        "#To draw a plot for above mention data we have to provide a fig size\n",
        "Category_Install_Bar = final_df_for_plot.plot.bar(figsize = (15,10),fontsize = 10)\n",
        "\n",
        "# Set the title\n",
        "Category_Install_Bar.set_title(\"Every Category Application Installations \", fontsize = 20)\n",
        "\n",
        "# Set x and y-labels\n",
        "Category_Install_Bar.set_xlabel(\"Categories\", fontsize = 20)\n",
        "Category_Install_Bar.set_ylabel(\"Approximate Installs in Million\", fontsize = 20)"
      ],
      "metadata": {
        "colab": {
          "base_uri": "https://localhost:8080/",
          "height": 768
        },
        "id": "ZjQvFtx04W4K",
        "outputId": "fab73116-678e-4940-8eed-b2df7ddde9fb"
      },
      "execution_count": null,
      "outputs": [
        {
          "output_type": "execute_result",
          "data": {
            "text/plain": [
              "Text(0, 0.5, 'Approximate Installs in Million')"
            ]
          },
          "metadata": {},
          "execution_count": 25
        },
        {
          "output_type": "display_data",
          "data": {
            "text/plain": [
              "<Figure size 1080x720 with 1 Axes>"
            ],
            "image/png": "[encoded data removed]"
          },
          "metadata": {
            "needs_background": "light"
          }
        }
      ]
    },
    {
      "cell_type": "markdown",
      "source": [
        "# Q2: Pie Chart for number of applications(Category-wise) available on Playstore."
      ],
      "metadata": {
        "id": "B-B1OQOi8HkR"
      }
    },
    {
      "cell_type": "code",
      "source": [
        "#Finding values need to plot a pie-chart for Every Category having how many apps in it (in %age)\n",
        "Pie_Chart_Data = playstore_data.groupby(['Category'],as_index=False)['App'].nunique()\n",
        "Pie_Chart_Data.set_index('Category', inplace=True)\n",
        "Pie_Chart_Data_Values = Pie_Chart_Data['App'].tolist()\n",
        "Pie_Chart_Data.plot.pie(y='App',title=\"CategoryWise Applications Availability\",autopct='%1.1f%%',figsize =(15, 16))"
      ],
      "metadata": {
        "colab": {
          "base_uri": "https://localhost:8080/",
          "height": 901
        },
        "id": "BRYBYvW98G6k",
        "outputId": "ad525408-a81a-4b5f-ddbf-c5a19757f7b0"
      },
      "execution_count": null,
      "outputs": [
        {
          "output_type": "execute_result",
          "data": {
            "text/plain": [
              "<matplotlib.axes._subplots.AxesSubplot at 0x7f681cf3ca90>"
            ]
          },
          "metadata": {},
          "execution_count": 26
        },
        {
          "output_type": "display_data",
          "data": {
            "text/plain": [
              "<Figure size 1080x1152 with 1 Axes>"
            ],
            "image/png": "[encoded data removed]"
          },
          "metadata": {}
        }
      ]
    },
    {
      "cell_type": "markdown",
      "source": [
        "# Q3: Correlation Heatmap among: Rating , Review, Install, Price."
      ],
      "metadata": {
        "id": "IjyLZMI3Wmrp"
      }
    },
    {
      "cell_type": "code",
      "source": [
        "# Here we are finding out the values that how all the four : Rating, Review, Installs and Price are related to each other for applications\n",
        "RRIP_corr = playstore_data[['Rating', 'Reviews', 'Installs', 'Price (in $)']]\n",
        "corr_ps_df = RRIP_corr.corr()\n",
        "corr_ps_df"
      ],
      "metadata": {
        "colab": {
          "base_uri": "https://localhost:8080/",
          "height": 175
        },
        "id": "kP6Bwr2OWq9I",
        "outputId": "8b57300d-05bf-45e0-adb5-5d224e9a63cb"
      },
      "execution_count": null,
      "outputs": [
        {
          "output_type": "execute_result",
          "data": {
            "text/plain": [
              "                Rating   Reviews  Installs  Price (in $)\n",
              "Rating        1.000000  0.068161  0.051377     -0.021901\n",
              "Reviews       0.068161  1.000000  0.641610     -0.009820\n",
              "Installs      0.051377  0.641610  1.000000     -0.011891\n",
              "Price (in $) -0.021901 -0.009820 -0.011891      1.000000"
            ],
            "text/html": [
              "\n",
              "  <div id=\"df-9003befb-eb58-4f0f-b2c7-94c763082d09\">\n",
              "    <div class=\"colab-df-container\">\n",
              "      <div>\n",
              "<style scoped>\n",
              "    .dataframe tbody tr th:only-of-type {\n",
              "        vertical-align: middle;\n",
              "    }\n",
              "\n",
              "    .dataframe tbody tr th {\n",
              "        vertical-align: top;\n",
              "    }\n",
              "\n",
              "    .dataframe thead th {\n",
              "        text-align: right;\n",
              "    }\n",
              "</style>\n",
              "<table border=\"1\" class=\"dataframe\">\n",
              "  <thead>\n",
              "    <tr style=\"text-align: right;\">\n",
              "      <th></th>\n",
              "      <th>Rating</th>\n",
              "      <th>Reviews</th>\n",
              "      <th>Installs</th>\n",
              "      <th>Price (in $)</th>\n",
              "    </tr>\n",
              "  </thead>\n",
              "  <tbody>\n",
              "    <tr>\n",
              "      <th>Rating</th>\n",
              "      <td>1.000000</td>\n",
              "      <td>0.068161</td>\n",
              "      <td>0.051377</td>\n",
              "      <td>-0.021901</td>\n",
              "    </tr>\n",
              "    <tr>\n",
              "      <th>Reviews</th>\n",
              "      <td>0.068161</td>\n",
              "      <td>1.000000</td>\n",
              "      <td>0.641610</td>\n",
              "      <td>-0.009820</td>\n",
              "    </tr>\n",
              "    <tr>\n",
              "      <th>Installs</th>\n",
              "      <td>0.051377</td>\n",
              "      <td>0.641610</td>\n",
              "      <td>1.000000</td>\n",
              "      <td>-0.011891</td>\n",
              "    </tr>\n",
              "    <tr>\n",
              "      <th>Price (in $)</th>\n",
              "      <td>-0.021901</td>\n",
              "      <td>-0.009820</td>\n",
              "      <td>-0.011891</td>\n",
              "      <td>1.000000</td>\n",
              "    </tr>\n",
              "  </tbody>\n",
              "</table>\n",
              "</div>\n",
              "      <button class=\"colab-df-convert\" onclick=\"convertToInteractive('df-9003befb-eb58-4f0f-b2c7-94c763082d09')\"\n",
              "              title=\"Convert this dataframe to an interactive table.\"\n",
              "              style=\"display:none;\">\n",
              "        \n",
              "  <svg xmlns=\"http://www.w3.org/2000/svg\" height=\"24px\"viewBox=\"0 0 24 24\"\n",
              "       width=\"24px\">\n",
              "    <path d=\"M0 0h24v24H0V0z\" fill=\"none\"/>\n",
              "    <path d=\"M18.56 5.44l.94 2.06.94-2.06 2.06-.94-2.06-.94-.94-2.06-.94 2.06-2.06.94zm-11 1L8.5 8.5l.94-2.06 2.06-.94-2.06-.94L8.5 2.5l-.94 2.06-2.06.94zm10 10l.94 2.06.94-2.06 2.06-.94-2.06-.94-.94-2.06-.94 2.06-2.06.94z\"/><path d=\"M17.41 7.96l-1.37-1.37c-.4-.4-.92-.59-1.43-.59-.52 0-1.04.2-1.43.59L10.3 9.45l-7.72 7.72c-.78.78-.78 2.05 0 2.83L4 21.41c.39.39.9.59 1.41.59.51 0 1.02-.2 1.41-.59l7.78-7.78 2.81-2.81c.8-.78.8-2.07 0-2.86zM5.41 20L4 18.59l7.72-7.72 1.47 1.35L5.41 20z\"/>\n",
              "  </svg>\n",
              "      </button>\n",
              "      \n",
              "  <style>\n",
              "    .colab-df-container {\n",
              "      display:flex;\n",
              "      flex-wrap:wrap;\n",
              "      gap: 12px;\n",
              "    }\n",
              "\n",
              "    .colab-df-convert {\n",
              "      background-color: #E8F0FE;\n",
              "      border: none;\n",
              "      border-radius: 50%;\n",
              "      cursor: pointer;\n",
              "      display: none;\n",
              "      fill: #1967D2;\n",
              "      height: 32px;\n",
              "      padding: 0 0 0 0;\n",
              "      width: 32px;\n",
              "    }\n",
              "\n",
              "    .colab-df-convert:hover {\n",
              "      background-color: #E2EBFA;\n",
              "      box-shadow: 0px 1px 2px rgba(60, 64, 67, 0.3), 0px 1px 3px 1px rgba(60, 64, 67, 0.15);\n",
              "      fill: #174EA6;\n",
              "    }\n",
              "\n",
              "    [theme=dark] .colab-df-convert {\n",
              "      background-color: #3B4455;\n",
              "      fill: #D2E3FC;\n",
              "    }\n",
              "\n",
              "    [theme=dark] .colab-df-convert:hover {\n",
              "      background-color: #434B5C;\n",
              "      box-shadow: 0px 1px 3px 1px rgba(0, 0, 0, 0.15);\n",
              "      filter: drop-shadow(0px 1px 2px rgba(0, 0, 0, 0.3));\n",
              "      fill: #FFFFFF;\n",
              "    }\n",
              "  </style>\n",
              "\n",
              "      <script>\n",
              "        const buttonEl =\n",
              "          document.querySelector('#df-9003befb-eb58-4f0f-b2c7-94c763082d09 button.colab-df-convert');\n",
              "        buttonEl.style.display =\n",
              "          google.colab.kernel.accessAllowed ? 'block' : 'none';\n",
              "\n",
              "        async function convertToInteractive(key) {\n",
              "          const element = document.querySelector('#df-9003befb-eb58-4f0f-b2c7-94c763082d09');\n",
              "          const dataTable =\n",
              "            await google.colab.kernel.invokeFunction('convertToInteractive',\n",
              "                                                     [key], {});\n",
              "          if (!dataTable) return;\n",
              "\n",
              "          const docLinkHtml = 'Like what you see? Visit the ' +\n",
              "            '<a target=\"_blank\" href=https://colab.research.google.com/notebooks/data_table.ipynb>data table notebook</a>'\n",
              "            + ' to learn more about interactive tables.';\n",
              "          element.innerHTML = '';\n",
              "          dataTable['output_type'] = 'display_data';\n",
              "          await google.colab.output.renderOutput(dataTable, element);\n",
              "          const docLink = document.createElement('div');\n",
              "          docLink.innerHTML = docLinkHtml;\n",
              "          element.appendChild(docLink);\n",
              "        }\n",
              "      </script>\n",
              "    </div>\n",
              "  </div>\n",
              "  "
            ]
          },
          "metadata": {},
          "execution_count": 27
        }
      ]
    },
    {
      "cell_type": "code",
      "source": [
        "#creating the co-relation graph\n",
        "plt.figure(figsize=(10,5))\n",
        "sns.heatmap(corr_ps_df, vmin=-1, cmap='coolwarm', annot=True)"
      ],
      "metadata": {
        "colab": {
          "base_uri": "https://localhost:8080/",
          "height": 341
        },
        "id": "iGm-qxf8XgRu",
        "outputId": "c100f666-18ac-4ea3-b1af-fbe7be61b7ec"
      },
      "execution_count": null,
      "outputs": [
        {
          "output_type": "execute_result",
          "data": {
            "text/plain": [
              "<matplotlib.axes._subplots.AxesSubplot at 0x7f681cd84a10>"
            ]
          },
          "metadata": {},
          "execution_count": 28
        },
        {
          "output_type": "display_data",
          "data": {
            "text/plain": [
              "<Figure size 720x360 with 2 Axes>"
            ],
            "image/png": "[encoded data removed]"
          },
          "metadata": {
            "needs_background": "light"
          }
        }
      ]
    },
    {
      "cell_type": "markdown",
      "source": [
        "# Q4: Corr Graph Between Sentiment Polarity and Sentiment Subjectivity for All the Positive Sentiments."
      ],
      "metadata": {
        "id": "HtDq47O8ddd-"
      }
    },
    {
      "cell_type": "code",
      "source": [
        "# Here we are finding out the values for Sentiment Polarity and Sentiment Subjectivity\n",
        "Sentiment_Positive = user_review_data[user_review_data['Sentiment'] == 'Positive'][['Sentiment_Polarity','Sentiment_Subjectivity']]\n",
        "Sentiment_Positive"
      ],
      "metadata": {
        "colab": {
          "base_uri": "https://localhost:8080/",
          "height": 424
        },
        "id": "uyZHcwJTglLr",
        "outputId": "6c4d44f2-62b7-4228-f2cd-50d9e8c6107f"
      },
      "execution_count": null,
      "outputs": [
        {
          "output_type": "execute_result",
          "data": {
            "text/plain": [
              "       Sentiment_Polarity  Sentiment_Subjectivity\n",
              "0                1.000000                0.533333\n",
              "1                0.250000                0.288462\n",
              "3                0.400000                0.875000\n",
              "4                1.000000                0.300000\n",
              "5                1.000000                0.300000\n",
              "...                   ...                     ...\n",
              "64217            0.233333                0.550000\n",
              "64221            0.021591                0.259470\n",
              "64222            0.173333                0.486667\n",
              "64223            0.225000                0.447222\n",
              "64227            0.800000                1.000000\n",
              "\n",
              "[23998 rows x 2 columns]"
            ],
            "text/html": [
              "\n",
              "  <div id=\"df-afd8dbac-9224-48e6-add0-e9b656df0bdd\">\n",
              "    <div class=\"colab-df-container\">\n",
              "      <div>\n",
              "<style scoped>\n",
              "    .dataframe tbody tr th:only-of-type {\n",
              "        vertical-align: middle;\n",
              "    }\n",
              "\n",
              "    .dataframe tbody tr th {\n",
              "        vertical-align: top;\n",
              "    }\n",
              "\n",
              "    .dataframe thead th {\n",
              "        text-align: right;\n",
              "    }\n",
              "</style>\n",
              "<table border=\"1\" class=\"dataframe\">\n",
              "  <thead>\n",
              "    <tr style=\"text-align: right;\">\n",
              "      <th></th>\n",
              "      <th>Sentiment_Polarity</th>\n",
              "      <th>Sentiment_Subjectivity</th>\n",
              "    </tr>\n",
              "  </thead>\n",
              "  <tbody>\n",
              "    <tr>\n",
              "      <th>0</th>\n",
              "      <td>1.000000</td>\n",
              "      <td>0.533333</td>\n",
              "    </tr>\n",
              "    <tr>\n",
              "      <th>1</th>\n",
              "      <td>0.250000</td>\n",
              "      <td>0.288462</td>\n",
              "    </tr>\n",
              "    <tr>\n",
              "      <th>3</th>\n",
              "      <td>0.400000</td>\n",
              "      <td>0.875000</td>\n",
              "    </tr>\n",
              "    <tr>\n",
              "      <th>4</th>\n",
              "      <td>1.000000</td>\n",
              "      <td>0.300000</td>\n",
              "    </tr>\n",
              "    <tr>\n",
              "      <th>5</th>\n",
              "      <td>1.000000</td>\n",
              "      <td>0.300000</td>\n",
              "    </tr>\n",
              "    <tr>\n",
              "      <th>...</th>\n",
              "      <td>...</td>\n",
              "      <td>...</td>\n",
              "    </tr>\n",
              "    <tr>\n",
              "      <th>64217</th>\n",
              "      <td>0.233333</td>\n",
              "      <td>0.550000</td>\n",
              "    </tr>\n",
              "    <tr>\n",
              "      <th>64221</th>\n",
              "      <td>0.021591</td>\n",
              "      <td>0.259470</td>\n",
              "    </tr>\n",
              "    <tr>\n",
              "      <th>64222</th>\n",
              "      <td>0.173333</td>\n",
              "      <td>0.486667</td>\n",
              "    </tr>\n",
              "    <tr>\n",
              "      <th>64223</th>\n",
              "      <td>0.225000</td>\n",
              "      <td>0.447222</td>\n",
              "    </tr>\n",
              "    <tr>\n",
              "      <th>64227</th>\n",
              "      <td>0.800000</td>\n",
              "      <td>1.000000</td>\n",
              "    </tr>\n",
              "  </tbody>\n",
              "</table>\n",
              "<p>23998 rows × 2 columns</p>\n",
              "</div>\n",
              "      <button class=\"colab-df-convert\" onclick=\"convertToInteractive('df-afd8dbac-9224-48e6-add0-e9b656df0bdd')\"\n",
              "              title=\"Convert this dataframe to an interactive table.\"\n",
              "              style=\"display:none;\">\n",
              "        \n",
              "  <svg xmlns=\"http://www.w3.org/2000/svg\" height=\"24px\"viewBox=\"0 0 24 24\"\n",
              "       width=\"24px\">\n",
              "    <path d=\"M0 0h24v24H0V0z\" fill=\"none\"/>\n",
              "    <path d=\"M18.56 5.44l.94 2.06.94-2.06 2.06-.94-2.06-.94-.94-2.06-.94 2.06-2.06.94zm-11 1L8.5 8.5l.94-2.06 2.06-.94-2.06-.94L8.5 2.5l-.94 2.06-2.06.94zm10 10l.94 2.06.94-2.06 2.06-.94-2.06-.94-.94-2.06-.94 2.06-2.06.94z\"/><path d=\"M17.41 7.96l-1.37-1.37c-.4-.4-.92-.59-1.43-.59-.52 0-1.04.2-1.43.59L10.3 9.45l-7.72 7.72c-.78.78-.78 2.05 0 2.83L4 21.41c.39.39.9.59 1.41.59.51 0 1.02-.2 1.41-.59l7.78-7.78 2.81-2.81c.8-.78.8-2.07 0-2.86zM5.41 20L4 18.59l7.72-7.72 1.47 1.35L5.41 20z\"/>\n",
              "  </svg>\n",
              "      </button>\n",
              "      \n",
              "  <style>\n",
              "    .colab-df-container {\n",
              "      display:flex;\n",
              "      flex-wrap:wrap;\n",
              "      gap: 12px;\n",
              "    }\n",
              "\n",
              "    .colab-df-convert {\n",
              "      background-color: #E8F0FE;\n",
              "      border: none;\n",
              "      border-radius: 50%;\n",
              "      cursor: pointer;\n",
              "      display: none;\n",
              "      fill: #1967D2;\n",
              "      height: 32px;\n",
              "      padding: 0 0 0 0;\n",
              "      width: 32px;\n",
              "    }\n",
              "\n",
              "    .colab-df-convert:hover {\n",
              "      background-color: #E2EBFA;\n",
              "      box-shadow: 0px 1px 2px rgba(60, 64, 67, 0.3), 0px 1px 3px 1px rgba(60, 64, 67, 0.15);\n",
              "      fill: #174EA6;\n",
              "    }\n",
              "\n",
              "    [theme=dark] .colab-df-convert {\n",
              "      background-color: #3B4455;\n",
              "      fill: #D2E3FC;\n",
              "    }\n",
              "\n",
              "    [theme=dark] .colab-df-convert:hover {\n",
              "      background-color: #434B5C;\n",
              "      box-shadow: 0px 1px 3px 1px rgba(0, 0, 0, 0.15);\n",
              "      filter: drop-shadow(0px 1px 2px rgba(0, 0, 0, 0.3));\n",
              "      fill: #FFFFFF;\n",
              "    }\n",
              "  </style>\n",
              "\n",
              "      <script>\n",
              "        const buttonEl =\n",
              "          document.querySelector('#df-afd8dbac-9224-48e6-add0-e9b656df0bdd button.colab-df-convert');\n",
              "        buttonEl.style.display =\n",
              "          google.colab.kernel.accessAllowed ? 'block' : 'none';\n",
              "\n",
              "        async function convertToInteractive(key) {\n",
              "          const element = document.querySelector('#df-afd8dbac-9224-48e6-add0-e9b656df0bdd');\n",
              "          const dataTable =\n",
              "            await google.colab.kernel.invokeFunction('convertToInteractive',\n",
              "                                                     [key], {});\n",
              "          if (!dataTable) return;\n",
              "\n",
              "          const docLinkHtml = 'Like what you see? Visit the ' +\n",
              "            '<a target=\"_blank\" href=https://colab.research.google.com/notebooks/data_table.ipynb>data table notebook</a>'\n",
              "            + ' to learn more about interactive tables.';\n",
              "          element.innerHTML = '';\n",
              "          dataTable['output_type'] = 'display_data';\n",
              "          await google.colab.output.renderOutput(dataTable, element);\n",
              "          const docLink = document.createElement('div');\n",
              "          docLink.innerHTML = docLinkHtml;\n",
              "          element.appendChild(docLink);\n",
              "        }\n",
              "      </script>\n",
              "    </div>\n",
              "  </div>\n",
              "  "
            ]
          },
          "metadata": {},
          "execution_count": 29
        }
      ]
    },
    {
      "cell_type": "code",
      "source": [
        "corr_urd_df = Sentiment_Positive.corr()\n",
        "corr_urd_df"
      ],
      "metadata": {
        "colab": {
          "base_uri": "https://localhost:8080/",
          "height": 112
        },
        "id": "kKSEPBCChKI6",
        "outputId": "810097d5-e7c6-4076-c4ea-5a4db6b95a89"
      },
      "execution_count": null,
      "outputs": [
        {
          "output_type": "execute_result",
          "data": {
            "text/plain": [
              "                        Sentiment_Polarity  Sentiment_Subjectivity\n",
              "Sentiment_Polarity                1.000000                0.461722\n",
              "Sentiment_Subjectivity            0.461722                1.000000"
            ],
            "text/html": [
              "\n",
              "  <div id=\"df-41bd5181-45b4-43e8-bee3-51012fe60dfe\">\n",
              "    <div class=\"colab-df-container\">\n",
              "      <div>\n",
              "<style scoped>\n",
              "    .dataframe tbody tr th:only-of-type {\n",
              "        vertical-align: middle;\n",
              "    }\n",
              "\n",
              "    .dataframe tbody tr th {\n",
              "        vertical-align: top;\n",
              "    }\n",
              "\n",
              "    .dataframe thead th {\n",
              "        text-align: right;\n",
              "    }\n",
              "</style>\n",
              "<table border=\"1\" class=\"dataframe\">\n",
              "  <thead>\n",
              "    <tr style=\"text-align: right;\">\n",
              "      <th></th>\n",
              "      <th>Sentiment_Polarity</th>\n",
              "      <th>Sentiment_Subjectivity</th>\n",
              "    </tr>\n",
              "  </thead>\n",
              "  <tbody>\n",
              "    <tr>\n",
              "      <th>Sentiment_Polarity</th>\n",
              "      <td>1.000000</td>\n",
              "      <td>0.461722</td>\n",
              "    </tr>\n",
              "    <tr>\n",
              "      <th>Sentiment_Subjectivity</th>\n",
              "      <td>0.461722</td>\n",
              "      <td>1.000000</td>\n",
              "    </tr>\n",
              "  </tbody>\n",
              "</table>\n",
              "</div>\n",
              "      <button class=\"colab-df-convert\" onclick=\"convertToInteractive('df-41bd5181-45b4-43e8-bee3-51012fe60dfe')\"\n",
              "              title=\"Convert this dataframe to an interactive table.\"\n",
              "              style=\"display:none;\">\n",
              "        \n",
              "  <svg xmlns=\"http://www.w3.org/2000/svg\" height=\"24px\"viewBox=\"0 0 24 24\"\n",
              "       width=\"24px\">\n",
              "    <path d=\"M0 0h24v24H0V0z\" fill=\"none\"/>\n",
              "    <path d=\"M18.56 5.44l.94 2.06.94-2.06 2.06-.94-2.06-.94-.94-2.06-.94 2.06-2.06.94zm-11 1L8.5 8.5l.94-2.06 2.06-.94-2.06-.94L8.5 2.5l-.94 2.06-2.06.94zm10 10l.94 2.06.94-2.06 2.06-.94-2.06-.94-.94-2.06-.94 2.06-2.06.94z\"/><path d=\"M17.41 7.96l-1.37-1.37c-.4-.4-.92-.59-1.43-.59-.52 0-1.04.2-1.43.59L10.3 9.45l-7.72 7.72c-.78.78-.78 2.05 0 2.83L4 21.41c.39.39.9.59 1.41.59.51 0 1.02-.2 1.41-.59l7.78-7.78 2.81-2.81c.8-.78.8-2.07 0-2.86zM5.41 20L4 18.59l7.72-7.72 1.47 1.35L5.41 20z\"/>\n",
              "  </svg>\n",
              "      </button>\n",
              "      \n",
              "  <style>\n",
              "    .colab-df-container {\n",
              "      display:flex;\n",
              "      flex-wrap:wrap;\n",
              "      gap: 12px;\n",
              "    }\n",
              "\n",
              "    .colab-df-convert {\n",
              "      background-color: #E8F0FE;\n",
              "      border: none;\n",
              "      border-radius: 50%;\n",
              "      cursor: pointer;\n",
              "      display: none;\n",
              "      fill: #1967D2;\n",
              "      height: 32px;\n",
              "      padding: 0 0 0 0;\n",
              "      width: 32px;\n",
              "    }\n",
              "\n",
              "    .colab-df-convert:hover {\n",
              "      background-color: #E2EBFA;\n",
              "      box-shadow: 0px 1px 2px rgba(60, 64, 67, 0.3), 0px 1px 3px 1px rgba(60, 64, 67, 0.15);\n",
              "      fill: #174EA6;\n",
              "    }\n",
              "\n",
              "    [theme=dark] .colab-df-convert {\n",
              "      background-color: #3B4455;\n",
              "      fill: #D2E3FC;\n",
              "    }\n",
              "\n",
              "    [theme=dark] .colab-df-convert:hover {\n",
              "      background-color: #434B5C;\n",
              "      box-shadow: 0px 1px 3px 1px rgba(0, 0, 0, 0.15);\n",
              "      filter: drop-shadow(0px 1px 2px rgba(0, 0, 0, 0.3));\n",
              "      fill: #FFFFFF;\n",
              "    }\n",
              "  </style>\n",
              "\n",
              "      <script>\n",
              "        const buttonEl =\n",
              "          document.querySelector('#df-41bd5181-45b4-43e8-bee3-51012fe60dfe button.colab-df-convert');\n",
              "        buttonEl.style.display =\n",
              "          google.colab.kernel.accessAllowed ? 'block' : 'none';\n",
              "\n",
              "        async function convertToInteractive(key) {\n",
              "          const element = document.querySelector('#df-41bd5181-45b4-43e8-bee3-51012fe60dfe');\n",
              "          const dataTable =\n",
              "            await google.colab.kernel.invokeFunction('convertToInteractive',\n",
              "                                                     [key], {});\n",
              "          if (!dataTable) return;\n",
              "\n",
              "          const docLinkHtml = 'Like what you see? Visit the ' +\n",
              "            '<a target=\"_blank\" href=https://colab.research.google.com/notebooks/data_table.ipynb>data table notebook</a>'\n",
              "            + ' to learn more about interactive tables.';\n",
              "          element.innerHTML = '';\n",
              "          dataTable['output_type'] = 'display_data';\n",
              "          await google.colab.output.renderOutput(dataTable, element);\n",
              "          const docLink = document.createElement('div');\n",
              "          docLink.innerHTML = docLinkHtml;\n",
              "          element.appendChild(docLink);\n",
              "        }\n",
              "      </script>\n",
              "    </div>\n",
              "  </div>\n",
              "  "
            ]
          },
          "metadata": {},
          "execution_count": 30
        }
      ]
    },
    {
      "cell_type": "code",
      "source": [
        "#Co-Relation Graph for how Sentiment Polarity and Sentiment Subjectivity are related to each other for applications\n",
        "plt.figure(figsize=(5,5))\n",
        "sns.heatmap(corr_urd_df, cmap='coolwarm', annot=True)"
      ],
      "metadata": {
        "colab": {
          "base_uri": "https://localhost:8080/",
          "height": 342
        },
        "id": "pqPJ60fYilrT",
        "outputId": "7f88d3fa-1048-4e0c-a4d6-2bca042b7a8c"
      },
      "execution_count": null,
      "outputs": [
        {
          "output_type": "execute_result",
          "data": {
            "text/plain": [
              "<matplotlib.axes._subplots.AxesSubplot at 0x7f6818ccc350>"
            ]
          },
          "metadata": {},
          "execution_count": 31
        },
        {
          "output_type": "display_data",
          "data": {
            "text/plain": [
              "<Figure size 360x360 with 2 Axes>"
            ],
            "image/png": "[encoded data removed]"
          },
          "metadata": {
            "needs_background": "light"
          }
        }
      ]
    },
    {
      "cell_type": "markdown",
      "source": [
        "# Q5: Find how many products are listed by 'Google and List all them also find their average Rating."
      ],
      "metadata": {
        "id": "176hqP9Gxhlq"
      }
    },
    {
      "cell_type": "code",
      "source": [
        "# Finding all the applications listed by Google and Google Products average Rating\n",
        "Num_Of_App_By_Google = playstore_data[playstore_data['App'].str.contains('Google')]['App'].nunique()\n",
        "Avg_Rating_Of_Google_Apps = playstore_data[playstore_data['App'].str.contains('Google')]['Rating'].mean()\n",
        "print(f'The number of Apps Listed by Google is: {Num_Of_App_By_Google} and Average Rating for Google Apps are: {round(Avg_Rating_Of_Google_Apps,1)}')"
      ],
      "metadata": {
        "colab": {
          "base_uri": "https://localhost:8080/"
        },
        "id": "KydSTOP1xnXZ",
        "outputId": "ecebc922-bbc0-433d-c369-cd6d9600693d"
      },
      "execution_count": null,
      "outputs": [
        {
          "output_type": "stream",
          "name": "stdout",
          "text": [
            "The number of Apps Listed by Google is: 48 and Average Rating for Google Apps are: 4.3\n"
          ]
        }
      ]
    },
    {
      "cell_type": "code",
      "source": [
        "list(playstore_data[playstore_data['App'].str.contains('Google')]['App'].unique())"
      ],
      "metadata": {
        "colab": {
          "base_uri": "https://localhost:8080/"
        },
        "id": "ZaRTeI723LBz",
        "outputId": "af36e5d6-7b16-4541-faa7-23201b8be85d"
      },
      "execution_count": null,
      "outputs": [
        {
          "output_type": "execute_result",
          "data": {
            "text/plain": [
              "['Google Play Books',\n",
              " 'Google My Business',\n",
              " 'Google Primer',\n",
              " 'Google Ads',\n",
              " 'Google Analytics',\n",
              " 'Google Chrome: Fast & Secure',\n",
              " 'Google Voice',\n",
              " 'Google Duo - High Quality Video Calls',\n",
              " 'Google Allo',\n",
              " 'PHONE for Google Voice & GTalk',\n",
              " 'Google Classroom',\n",
              " 'Google Play Games',\n",
              " 'Google Pay',\n",
              " 'Google Fit - Fitness Tracking',\n",
              " 'Google+',\n",
              " 'Google Photos',\n",
              " 'QuickPic - Photo Gallery with Google Drive Support',\n",
              " 'Google Trips - Travel Planner',\n",
              " 'Google Earth',\n",
              " 'Google Street View',\n",
              " 'Google',\n",
              " 'Google Translate',\n",
              " 'Files Go by Google: Free up space on your phone',\n",
              " 'Gboard - the Google Keyboard',\n",
              " 'Google Korean Input',\n",
              " 'Google app for Android TV',\n",
              " 'Google Assistant Go',\n",
              " 'Google Handwriting Input',\n",
              " 'Google Drive',\n",
              " 'Google PDF Viewer',\n",
              " 'Google Assistant',\n",
              " 'Google Keep',\n",
              " 'Google Calendar',\n",
              " 'Google Docs',\n",
              " 'Google Sheets',\n",
              " 'Google Slides',\n",
              " 'Google Play Movies & TV',\n",
              " 'Google News',\n",
              " 'Google Now Launcher',\n",
              " 'Google I/O 2018',\n",
              " 'Google AdSense',\n",
              " 'Local Services ads by Google',\n",
              " 'PhotoScan by Google Photos',\n",
              " 'One Today by Google',\n",
              " 'Project Fi by Google',\n",
              " 'Fix Error Google Playstore',\n",
              " 'Cal - Google Calendar + Widget',\n",
              " 'Google Arts & Culture']"
            ]
          },
          "metadata": {},
          "execution_count": 33
        }
      ]
    },
    {
      "cell_type": "markdown",
      "source": [
        "# Q6: Which genre of Games has most number of Applications?"
      ],
      "metadata": {
        "id": "8x7lBtrF4MVn"
      }
    },
    {
      "cell_type": "code",
      "source": [
        "# Finding out the different genre of Category 'Games'\n",
        "genre_data = playstore_data[playstore_data['Category'] == 'GAME'].groupby('Genres',as_index=True)"
      ],
      "metadata": {
        "id": "1K6PUFT84R4A"
      },
      "execution_count": null,
      "outputs": []
    },
    {
      "cell_type": "code",
      "source": [
        "print(\"Most of Gaming Applications is being made in: \")\n",
        "genre_data['Genres'].count().head(1)"
      ],
      "metadata": {
        "colab": {
          "base_uri": "https://localhost:8080/"
        },
        "id": "FQ4QroQt99Vo",
        "outputId": "41d9fdf5-3a1d-4430-8ee5-5954ff72de37"
      },
      "execution_count": null,
      "outputs": [
        {
          "output_type": "stream",
          "name": "stdout",
          "text": [
            "Most of Gaming Applications is being made in: \n"
          ]
        },
        {
          "output_type": "execute_result",
          "data": {
            "text/plain": [
              "Genres\n",
              "Action    358\n",
              "Name: Genres, dtype: int64"
            ]
          },
          "metadata": {},
          "execution_count": 35
        }
      ]
    },
    {
      "cell_type": "markdown",
      "source": [
        "# Q7: In Which year most of the applications got updated and show it through a LinePlot?"
      ],
      "metadata": {
        "id": "XBYwzo2AOso1"
      }
    },
    {
      "cell_type": "code",
      "source": [
        "#Finding out all the values from last updated dates every year\n",
        "updated_year_df = pd.DataFrame(playstore_data.groupby('Last Update Year')['App'].count())"
      ],
      "metadata": {
        "id": "P5OpgJesPQcb"
      },
      "execution_count": null,
      "outputs": []
    },
    {
      "cell_type": "code",
      "source": [
        "Most_Updated_Apps_Year =updated_year_df.sort_values(by='App',ascending=False)\n",
        "print(f\"Applications got updated in year {Most_Updated_Apps_Year.index[0]} are: {int(Most_Updated_Apps_Year.values[0])} \")"
      ],
      "metadata": {
        "colab": {
          "base_uri": "https://localhost:8080/"
        },
        "id": "lqS2WwSWQDW0",
        "outputId": "d1c625d8-4ecd-4313-ca67-6f328844de96"
      },
      "execution_count": null,
      "outputs": [
        {
          "output_type": "stream",
          "name": "stdout",
          "text": [
            "Applications got updated in year 2018 are: 6506 \n"
          ]
        }
      ]
    },
    {
      "cell_type": "code",
      "source": [
        "plt.rcParams['figure.figsize'] = (10, 5)\n",
        "plt.plot(updated_year_df)\n",
        "plt.title('Yearly Updates By Years')\n",
        "plt.ylabel('Years')\n",
        "plt.xlabel('No Of Updates')"
      ],
      "metadata": {
        "colab": {
          "base_uri": "https://localhost:8080/",
          "height": 367
        },
        "id": "3C0UpnitXVOQ",
        "outputId": "f0a8733a-3a3c-4e3c-908c-1586b75d34ec"
      },
      "execution_count": null,
      "outputs": [
        {
          "output_type": "execute_result",
          "data": {
            "text/plain": [
              "Text(0.5, 0, 'No Of Updates')"
            ]
          },
          "metadata": {},
          "execution_count": 38
        },
        {
          "output_type": "display_data",
          "data": {
            "text/plain": [
              "<Figure size 720x360 with 1 Axes>"
            ],
            "image/png": "[encoded data removed]"
          },
          "metadata": {
            "needs_background": "light"
          }
        }
      ]
    },
    {
      "cell_type": "markdown",
      "source": [
        "# Q8: Which category has maximum number of 'Postive' and 'Negative' Sentiments?"
      ],
      "metadata": {
        "id": "b-0Ee39ccegs"
      }
    },
    {
      "cell_type": "code",
      "source": [
        "playstore_df = playstore_data[['App','Category']]\n",
        "user_review_df = user_review_data[['App','Sentiment']]\n",
        "merged_RJ_df = pd.merge(playstore_df, user_review_df, how='right',left_on=['App'],right_on='App') \n",
        "merged_RJ_df"
      ],
      "metadata": {
        "id": "TwytiXo-cyAO",
        "colab": {
          "base_uri": "https://localhost:8080/",
          "height": 424
        },
        "outputId": "410f1e4b-a27e-4cb6-c416-bc3545084e46"
      },
      "execution_count": null,
      "outputs": [
        {
          "output_type": "execute_result",
          "data": {
            "text/plain": [
              "                                  App            Category Sentiment\n",
              "0               10 Best Foods for You  HEALTH_AND_FITNESS  Positive\n",
              "1               10 Best Foods for You  HEALTH_AND_FITNESS  Positive\n",
              "2               10 Best Foods for You  HEALTH_AND_FITNESS  Positive\n",
              "3               10 Best Foods for You  HEALTH_AND_FITNESS  Positive\n",
              "4               10 Best Foods for You  HEALTH_AND_FITNESS  Positive\n",
              "...                               ...                 ...       ...\n",
              "74059  Housing-Real Estate & Property           LIFESTYLE  Positive\n",
              "74060  Housing-Real Estate & Property           LIFESTYLE  Positive\n",
              "74061  Housing-Real Estate & Property           LIFESTYLE  Negative\n",
              "74062  Housing-Real Estate & Property           LIFESTYLE  Positive\n",
              "74063  Housing-Real Estate & Property           LIFESTYLE  Negative\n",
              "\n",
              "[74064 rows x 3 columns]"
            ],
            "text/html": [
              "\n",
              "  <div id=\"df-81982cd4-a2cc-4cf5-aa94-07daaf1af02b\">\n",
              "    <div class=\"colab-df-container\">\n",
              "      <div>\n",
              "<style scoped>\n",
              "    .dataframe tbody tr th:only-of-type {\n",
              "        vertical-align: middle;\n",
              "    }\n",
              "\n",
              "    .dataframe tbody tr th {\n",
              "        vertical-align: top;\n",
              "    }\n",
              "\n",
              "    .dataframe thead th {\n",
              "        text-align: right;\n",
              "    }\n",
              "</style>\n",
              "<table border=\"1\" class=\"dataframe\">\n",
              "  <thead>\n",
              "    <tr style=\"text-align: right;\">\n",
              "      <th></th>\n",
              "      <th>App</th>\n",
              "      <th>Category</th>\n",
              "      <th>Sentiment</th>\n",
              "    </tr>\n",
              "  </thead>\n",
              "  <tbody>\n",
              "    <tr>\n",
              "      <th>0</th>\n",
              "      <td>10 Best Foods for You</td>\n",
              "      <td>HEALTH_AND_FITNESS</td>\n",
              "      <td>Positive</td>\n",
              "    </tr>\n",
              "    <tr>\n",
              "      <th>1</th>\n",
              "      <td>10 Best Foods for You</td>\n",
              "      <td>HEALTH_AND_FITNESS</td>\n",
              "      <td>Positive</td>\n",
              "    </tr>\n",
              "    <tr>\n",
              "      <th>2</th>\n",
              "      <td>10 Best Foods for You</td>\n",
              "      <td>HEALTH_AND_FITNESS</td>\n",
              "      <td>Positive</td>\n",
              "    </tr>\n",
              "    <tr>\n",
              "      <th>3</th>\n",
              "      <td>10 Best Foods for You</td>\n",
              "      <td>HEALTH_AND_FITNESS</td>\n",
              "      <td>Positive</td>\n",
              "    </tr>\n",
              "    <tr>\n",
              "      <th>4</th>\n",
              "      <td>10 Best Foods for You</td>\n",
              "      <td>HEALTH_AND_FITNESS</td>\n",
              "      <td>Positive</td>\n",
              "    </tr>\n",
              "    <tr>\n",
              "      <th>...</th>\n",
              "      <td>...</td>\n",
              "      <td>...</td>\n",
              "      <td>...</td>\n",
              "    </tr>\n",
              "    <tr>\n",
              "      <th>74059</th>\n",
              "      <td>Housing-Real Estate &amp; Property</td>\n",
              "      <td>LIFESTYLE</td>\n",
              "      <td>Positive</td>\n",
              "    </tr>\n",
              "    <tr>\n",
              "      <th>74060</th>\n",
              "      <td>Housing-Real Estate &amp; Property</td>\n",
              "      <td>LIFESTYLE</td>\n",
              "      <td>Positive</td>\n",
              "    </tr>\n",
              "    <tr>\n",
              "      <th>74061</th>\n",
              "      <td>Housing-Real Estate &amp; Property</td>\n",
              "      <td>LIFESTYLE</td>\n",
              "      <td>Negative</td>\n",
              "    </tr>\n",
              "    <tr>\n",
              "      <th>74062</th>\n",
              "      <td>Housing-Real Estate &amp; Property</td>\n",
              "      <td>LIFESTYLE</td>\n",
              "      <td>Positive</td>\n",
              "    </tr>\n",
              "    <tr>\n",
              "      <th>74063</th>\n",
              "      <td>Housing-Real Estate &amp; Property</td>\n",
              "      <td>LIFESTYLE</td>\n",
              "      <td>Negative</td>\n",
              "    </tr>\n",
              "  </tbody>\n",
              "</table>\n",
              "<p>74064 rows × 3 columns</p>\n",
              "</div>\n",
              "      <button class=\"colab-df-convert\" onclick=\"convertToInteractive('df-81982cd4-a2cc-4cf5-aa94-07daaf1af02b')\"\n",
              "              title=\"Convert this dataframe to an interactive table.\"\n",
              "              style=\"display:none;\">\n",
              "        \n",
              "  <svg xmlns=\"http://www.w3.org/2000/svg\" height=\"24px\"viewBox=\"0 0 24 24\"\n",
              "       width=\"24px\">\n",
              "    <path d=\"M0 0h24v24H0V0z\" fill=\"none\"/>\n",
              "    <path d=\"M18.56 5.44l.94 2.06.94-2.06 2.06-.94-2.06-.94-.94-2.06-.94 2.06-2.06.94zm-11 1L8.5 8.5l.94-2.06 2.06-.94-2.06-.94L8.5 2.5l-.94 2.06-2.06.94zm10 10l.94 2.06.94-2.06 2.06-.94-2.06-.94-.94-2.06-.94 2.06-2.06.94z\"/><path d=\"M17.41 7.96l-1.37-1.37c-.4-.4-.92-.59-1.43-.59-.52 0-1.04.2-1.43.59L10.3 9.45l-7.72 7.72c-.78.78-.78 2.05 0 2.83L4 21.41c.39.39.9.59 1.41.59.51 0 1.02-.2 1.41-.59l7.78-7.78 2.81-2.81c.8-.78.8-2.07 0-2.86zM5.41 20L4 18.59l7.72-7.72 1.47 1.35L5.41 20z\"/>\n",
              "  </svg>\n",
              "      </button>\n",
              "      \n",
              "  <style>\n",
              "    .colab-df-container {\n",
              "      display:flex;\n",
              "      flex-wrap:wrap;\n",
              "      gap: 12px;\n",
              "    }\n",
              "\n",
              "    .colab-df-convert {\n",
              "      background-color: #E8F0FE;\n",
              "      border: none;\n",
              "      border-radius: 50%;\n",
              "      cursor: pointer;\n",
              "      display: none;\n",
              "      fill: #1967D2;\n",
              "      height: 32px;\n",
              "      padding: 0 0 0 0;\n",
              "      width: 32px;\n",
              "    }\n",
              "\n",
              "    .colab-df-convert:hover {\n",
              "      background-color: #E2EBFA;\n",
              "      box-shadow: 0px 1px 2px rgba(60, 64, 67, 0.3), 0px 1px 3px 1px rgba(60, 64, 67, 0.15);\n",
              "      fill: #174EA6;\n",
              "    }\n",
              "\n",
              "    [theme=dark] .colab-df-convert {\n",
              "      background-color: #3B4455;\n",
              "      fill: #D2E3FC;\n",
              "    }\n",
              "\n",
              "    [theme=dark] .colab-df-convert:hover {\n",
              "      background-color: #434B5C;\n",
              "      box-shadow: 0px 1px 3px 1px rgba(0, 0, 0, 0.15);\n",
              "      filter: drop-shadow(0px 1px 2px rgba(0, 0, 0, 0.3));\n",
              "      fill: #FFFFFF;\n",
              "    }\n",
              "  </style>\n",
              "\n",
              "      <script>\n",
              "        const buttonEl =\n",
              "          document.querySelector('#df-81982cd4-a2cc-4cf5-aa94-07daaf1af02b button.colab-df-convert');\n",
              "        buttonEl.style.display =\n",
              "          google.colab.kernel.accessAllowed ? 'block' : 'none';\n",
              "\n",
              "        async function convertToInteractive(key) {\n",
              "          const element = document.querySelector('#df-81982cd4-a2cc-4cf5-aa94-07daaf1af02b');\n",
              "          const dataTable =\n",
              "            await google.colab.kernel.invokeFunction('convertToInteractive',\n",
              "                                                     [key], {});\n",
              "          if (!dataTable) return;\n",
              "\n",
              "          const docLinkHtml = 'Like what you see? Visit the ' +\n",
              "            '<a target=\"_blank\" href=https://colab.research.google.com/notebooks/data_table.ipynb>data table notebook</a>'\n",
              "            + ' to learn more about interactive tables.';\n",
              "          element.innerHTML = '';\n",
              "          dataTable['output_type'] = 'display_data';\n",
              "          await google.colab.output.renderOutput(dataTable, element);\n",
              "          const docLink = document.createElement('div');\n",
              "          docLink.innerHTML = docLinkHtml;\n",
              "          element.appendChild(docLink);\n",
              "        }\n",
              "      </script>\n",
              "    </div>\n",
              "  </div>\n",
              "  "
            ]
          },
          "metadata": {},
          "execution_count": 42
        }
      ]
    },
    {
      "cell_type": "code",
      "source": [
        "postive_sentiment_max_category = merged_RJ_df[merged_RJ_df['Sentiment'] == 'Positive'].groupby('Category')['Sentiment'].count().rename_axis('Categories').reset_index(name='Counts').sort_values(by='Counts')\n",
        "postive_sentiment_max_category"
      ],
      "metadata": {
        "colab": {
          "base_uri": "https://localhost:8080/",
          "height": 1000
        },
        "id": "sZZSQINBUSjk",
        "outputId": "a2148173-62c9-456b-b350-d89daa8ff489"
      },
      "execution_count": null,
      "outputs": [
        {
          "output_type": "execute_result",
          "data": {
            "text/plain": [
              "             Categories  Counts\n",
              "5                COMICS      72\n",
              "10               EVENTS     125\n",
              "19  MAPS_AND_NAVIGATION     129\n",
              "32              WEATHER     165\n",
              "2                BEAUTY     185\n",
              "22            PARENTING     185\n",
              "31        VIDEO_PLAYERS     190\n",
              "1     AUTO_AND_VEHICLES     236\n",
              "17   LIBRARIES_AND_DEMO     238\n",
              "0        ART_AND_DESIGN     259\n",
              "16       HOUSE_AND_HOME     435\n",
              "3   BOOKS_AND_REFERENCE     551\n",
              "13       FOOD_AND_DRINK     611\n",
              "27               SOCIAL     730\n",
              "18            LIFESTYLE     802\n",
              "23      PERSONALIZATION     899\n",
              "29                TOOLS    1090\n",
              "6         COMMUNICATION    1292\n",
              "12              FINANCE    1312\n",
              "21   NEWS_AND_MAGAZINES    1314\n",
              "26             SHOPPING    1337\n",
              "8             EDUCATION    1346\n",
              "4              BUSINESS    1450\n",
              "9         ENTERTAINMENT    1486\n",
              "20              MEDICAL    1503\n",
              "24          PHOTOGRAPHY    1709\n",
              "30     TRAVEL_AND_LOCAL    1824\n",
              "7                DATING    1971\n",
              "25         PRODUCTIVITY    2144\n",
              "28               SPORTS    2201\n",
              "15   HEALTH_AND_FITNESS    3444\n",
              "11               FAMILY    3888\n",
              "14                 GAME   11041"
            ],
            "text/html": [
              "\n",
              "  <div id=\"df-d9286d71-6738-48f1-91cc-50c01385ed17\">\n",
              "    <div class=\"colab-df-container\">\n",
              "      <div>\n",
              "<style scoped>\n",
              "    .dataframe tbody tr th:only-of-type {\n",
              "        vertical-align: middle;\n",
              "    }\n",
              "\n",
              "    .dataframe tbody tr th {\n",
              "        vertical-align: top;\n",
              "    }\n",
              "\n",
              "    .dataframe thead th {\n",
              "        text-align: right;\n",
              "    }\n",
              "</style>\n",
              "<table border=\"1\" class=\"dataframe\">\n",
              "  <thead>\n",
              "    <tr style=\"text-align: right;\">\n",
              "      <th></th>\n",
              "      <th>Categories</th>\n",
              "      <th>Counts</th>\n",
              "    </tr>\n",
              "  </thead>\n",
              "  <tbody>\n",
              "    <tr>\n",
              "      <th>5</th>\n",
              "      <td>COMICS</td>\n",
              "      <td>72</td>\n",
              "    </tr>\n",
              "    <tr>\n",
              "      <th>10</th>\n",
              "      <td>EVENTS</td>\n",
              "      <td>125</td>\n",
              "    </tr>\n",
              "    <tr>\n",
              "      <th>19</th>\n",
              "      <td>MAPS_AND_NAVIGATION</td>\n",
              "      <td>129</td>\n",
              "    </tr>\n",
              "    <tr>\n",
              "      <th>32</th>\n",
              "      <td>WEATHER</td>\n",
              "      <td>165</td>\n",
              "    </tr>\n",
              "    <tr>\n",
              "      <th>2</th>\n",
              "      <td>BEAUTY</td>\n",
              "      <td>185</td>\n",
              "    </tr>\n",
              "    <tr>\n",
              "      <th>22</th>\n",
              "      <td>PARENTING</td>\n",
              "      <td>185</td>\n",
              "    </tr>\n",
              "    <tr>\n",
              "      <th>31</th>\n",
              "      <td>VIDEO_PLAYERS</td>\n",
              "      <td>190</td>\n",
              "    </tr>\n",
              "    <tr>\n",
              "      <th>1</th>\n",
              "      <td>AUTO_AND_VEHICLES</td>\n",
              "      <td>236</td>\n",
              "    </tr>\n",
              "    <tr>\n",
              "      <th>17</th>\n",
              "      <td>LIBRARIES_AND_DEMO</td>\n",
              "      <td>238</td>\n",
              "    </tr>\n",
              "    <tr>\n",
              "      <th>0</th>\n",
              "      <td>ART_AND_DESIGN</td>\n",
              "      <td>259</td>\n",
              "    </tr>\n",
              "    <tr>\n",
              "      <th>16</th>\n",
              "      <td>HOUSE_AND_HOME</td>\n",
              "      <td>435</td>\n",
              "    </tr>\n",
              "    <tr>\n",
              "      <th>3</th>\n",
              "      <td>BOOKS_AND_REFERENCE</td>\n",
              "      <td>551</td>\n",
              "    </tr>\n",
              "    <tr>\n",
              "      <th>13</th>\n",
              "      <td>FOOD_AND_DRINK</td>\n",
              "      <td>611</td>\n",
              "    </tr>\n",
              "    <tr>\n",
              "      <th>27</th>\n",
              "      <td>SOCIAL</td>\n",
              "      <td>730</td>\n",
              "    </tr>\n",
              "    <tr>\n",
              "      <th>18</th>\n",
              "      <td>LIFESTYLE</td>\n",
              "      <td>802</td>\n",
              "    </tr>\n",
              "    <tr>\n",
              "      <th>23</th>\n",
              "      <td>PERSONALIZATION</td>\n",
              "      <td>899</td>\n",
              "    </tr>\n",
              "    <tr>\n",
              "      <th>29</th>\n",
              "      <td>TOOLS</td>\n",
              "      <td>1090</td>\n",
              "    </tr>\n",
              "    <tr>\n",
              "      <th>6</th>\n",
              "      <td>COMMUNICATION</td>\n",
              "      <td>1292</td>\n",
              "    </tr>\n",
              "    <tr>\n",
              "      <th>12</th>\n",
              "      <td>FINANCE</td>\n",
              "      <td>1312</td>\n",
              "    </tr>\n",
              "    <tr>\n",
              "      <th>21</th>\n",
              "      <td>NEWS_AND_MAGAZINES</td>\n",
              "      <td>1314</td>\n",
              "    </tr>\n",
              "    <tr>\n",
              "      <th>26</th>\n",
              "      <td>SHOPPING</td>\n",
              "      <td>1337</td>\n",
              "    </tr>\n",
              "    <tr>\n",
              "      <th>8</th>\n",
              "      <td>EDUCATION</td>\n",
              "      <td>1346</td>\n",
              "    </tr>\n",
              "    <tr>\n",
              "      <th>4</th>\n",
              "      <td>BUSINESS</td>\n",
              "      <td>1450</td>\n",
              "    </tr>\n",
              "    <tr>\n",
              "      <th>9</th>\n",
              "      <td>ENTERTAINMENT</td>\n",
              "      <td>1486</td>\n",
              "    </tr>\n",
              "    <tr>\n",
              "      <th>20</th>\n",
              "      <td>MEDICAL</td>\n",
              "      <td>1503</td>\n",
              "    </tr>\n",
              "    <tr>\n",
              "      <th>24</th>\n",
              "      <td>PHOTOGRAPHY</td>\n",
              "      <td>1709</td>\n",
              "    </tr>\n",
              "    <tr>\n",
              "      <th>30</th>\n",
              "      <td>TRAVEL_AND_LOCAL</td>\n",
              "      <td>1824</td>\n",
              "    </tr>\n",
              "    <tr>\n",
              "      <th>7</th>\n",
              "      <td>DATING</td>\n",
              "      <td>1971</td>\n",
              "    </tr>\n",
              "    <tr>\n",
              "      <th>25</th>\n",
              "      <td>PRODUCTIVITY</td>\n",
              "      <td>2144</td>\n",
              "    </tr>\n",
              "    <tr>\n",
              "      <th>28</th>\n",
              "      <td>SPORTS</td>\n",
              "      <td>2201</td>\n",
              "    </tr>\n",
              "    <tr>\n",
              "      <th>15</th>\n",
              "      <td>HEALTH_AND_FITNESS</td>\n",
              "      <td>3444</td>\n",
              "    </tr>\n",
              "    <tr>\n",
              "      <th>11</th>\n",
              "      <td>FAMILY</td>\n",
              "      <td>3888</td>\n",
              "    </tr>\n",
              "    <tr>\n",
              "      <th>14</th>\n",
              "      <td>GAME</td>\n",
              "      <td>11041</td>\n",
              "    </tr>\n",
              "  </tbody>\n",
              "</table>\n",
              "</div>\n",
              "      <button class=\"colab-df-convert\" onclick=\"convertToInteractive('df-d9286d71-6738-48f1-91cc-50c01385ed17')\"\n",
              "              title=\"Convert this dataframe to an interactive table.\"\n",
              "              style=\"display:none;\">\n",
              "        \n",
              "  <svg xmlns=\"http://www.w3.org/2000/svg\" height=\"24px\"viewBox=\"0 0 24 24\"\n",
              "       width=\"24px\">\n",
              "    <path d=\"M0 0h24v24H0V0z\" fill=\"none\"/>\n",
              "    <path d=\"M18.56 5.44l.94 2.06.94-2.06 2.06-.94-2.06-.94-.94-2.06-.94 2.06-2.06.94zm-11 1L8.5 8.5l.94-2.06 2.06-.94-2.06-.94L8.5 2.5l-.94 2.06-2.06.94zm10 10l.94 2.06.94-2.06 2.06-.94-2.06-.94-.94-2.06-.94 2.06-2.06.94z\"/><path d=\"M17.41 7.96l-1.37-1.37c-.4-.4-.92-.59-1.43-.59-.52 0-1.04.2-1.43.59L10.3 9.45l-7.72 7.72c-.78.78-.78 2.05 0 2.83L4 21.41c.39.39.9.59 1.41.59.51 0 1.02-.2 1.41-.59l7.78-7.78 2.81-2.81c.8-.78.8-2.07 0-2.86zM5.41 20L4 18.59l7.72-7.72 1.47 1.35L5.41 20z\"/>\n",
              "  </svg>\n",
              "      </button>\n",
              "      \n",
              "  <style>\n",
              "    .colab-df-container {\n",
              "      display:flex;\n",
              "      flex-wrap:wrap;\n",
              "      gap: 12px;\n",
              "    }\n",
              "\n",
              "    .colab-df-convert {\n",
              "      background-color: #E8F0FE;\n",
              "      border: none;\n",
              "      border-radius: 50%;\n",
              "      cursor: pointer;\n",
              "      display: none;\n",
              "      fill: #1967D2;\n",
              "      height: 32px;\n",
              "      padding: 0 0 0 0;\n",
              "      width: 32px;\n",
              "    }\n",
              "\n",
              "    .colab-df-convert:hover {\n",
              "      background-color: #E2EBFA;\n",
              "      box-shadow: 0px 1px 2px rgba(60, 64, 67, 0.3), 0px 1px 3px 1px rgba(60, 64, 67, 0.15);\n",
              "      fill: #174EA6;\n",
              "    }\n",
              "\n",
              "    [theme=dark] .colab-df-convert {\n",
              "      background-color: #3B4455;\n",
              "      fill: #D2E3FC;\n",
              "    }\n",
              "\n",
              "    [theme=dark] .colab-df-convert:hover {\n",
              "      background-color: #434B5C;\n",
              "      box-shadow: 0px 1px 3px 1px rgba(0, 0, 0, 0.15);\n",
              "      filter: drop-shadow(0px 1px 2px rgba(0, 0, 0, 0.3));\n",
              "      fill: #FFFFFF;\n",
              "    }\n",
              "  </style>\n",
              "\n",
              "      <script>\n",
              "        const buttonEl =\n",
              "          document.querySelector('#df-d9286d71-6738-48f1-91cc-50c01385ed17 button.colab-df-convert');\n",
              "        buttonEl.style.display =\n",
              "          google.colab.kernel.accessAllowed ? 'block' : 'none';\n",
              "\n",
              "        async function convertToInteractive(key) {\n",
              "          const element = document.querySelector('#df-d9286d71-6738-48f1-91cc-50c01385ed17');\n",
              "          const dataTable =\n",
              "            await google.colab.kernel.invokeFunction('convertToInteractive',\n",
              "                                                     [key], {});\n",
              "          if (!dataTable) return;\n",
              "\n",
              "          const docLinkHtml = 'Like what you see? Visit the ' +\n",
              "            '<a target=\"_blank\" href=https://colab.research.google.com/notebooks/data_table.ipynb>data table notebook</a>'\n",
              "            + ' to learn more about interactive tables.';\n",
              "          element.innerHTML = '';\n",
              "          dataTable['output_type'] = 'display_data';\n",
              "          await google.colab.output.renderOutput(dataTable, element);\n",
              "          const docLink = document.createElement('div');\n",
              "          docLink.innerHTML = docLinkHtml;\n",
              "          element.appendChild(docLink);\n",
              "        }\n",
              "      </script>\n",
              "    </div>\n",
              "  </div>\n",
              "  "
            ]
          },
          "metadata": {},
          "execution_count": 70
        }
      ]
    },
    {
      "cell_type": "code",
      "source": [
        "#To draw a plot for above mention data we have to provide a fig size\n",
        "Category_Positive_Sentiment_Bar = merged_RJ_df[merged_RJ_df['Sentiment'] == 'Positive'].groupby('Category')['Sentiment'].count().plot.bar(figsize = (20,8),fontsize = 10)\n",
        "\n",
        "# Set the title\n",
        "Category_Positive_Sentiment_Bar.set_title(\"Every Category Positive Sentiments \", fontsize = 25)\n",
        "\n",
        "# Set x and y-labels\n",
        "Category_Positive_Sentiment_Bar.set_xlabel(\"Categories\", fontsize = 20)\n",
        "Category_Positive_Sentiment_Bar.set_ylabel(\"Postive Sentiments\", fontsize = 20)"
      ],
      "metadata": {
        "colab": {
          "base_uri": "https://localhost:8080/",
          "height": 664
        },
        "id": "UkGB4nlrZ8Tk",
        "outputId": "7b761970-7a62-4712-bb49-1e19ef9de06d"
      },
      "execution_count": null,
      "outputs": [
        {
          "output_type": "execute_result",
          "data": {
            "text/plain": [
              "Text(0, 0.5, 'Postive Sentiments')"
            ]
          },
          "metadata": {},
          "execution_count": 76
        },
        {
          "output_type": "display_data",
          "data": {
            "text/plain": [
              "<Figure size 1440x576 with 1 Axes>"
            ],
            "image/png": "[encoded data removed]"
          },
          "metadata": {
            "needs_background": "light"
          }
        }
      ]
    },
    {
      "cell_type": "code",
      "source": [
        "negative_sentiment_max_category = merged_RJ_df[merged_RJ_df['Sentiment'] == 'Negative'].groupby('Category')['Sentiment'].count().rename_axis('Categories').reset_index(name='Counts').sort_values(by='Counts')\n",
        "negative_sentiment_max_category"
      ],
      "metadata": {
        "colab": {
          "base_uri": "https://localhost:8080/",
          "height": 1000
        },
        "id": "2PUFk5OyWTBk",
        "outputId": "2d56041d-71fc-42ea-83fa-4593c1d83f03"
      },
      "execution_count": null,
      "outputs": [
        {
          "output_type": "execute_result",
          "data": {
            "text/plain": [
              "             Categories  Counts\n",
              "5                COMICS       2\n",
              "10               EVENTS      16\n",
              "1     AUTO_AND_VEHICLES      17\n",
              "22            PARENTING      23\n",
              "19  MAPS_AND_NAVIGATION      27\n",
              "32              WEATHER      33\n",
              "17   LIBRARIES_AND_DEMO      51\n",
              "0        ART_AND_DESIGN      61\n",
              "2                BEAUTY      65\n",
              "31        VIDEO_PLAYERS      83\n",
              "16       HOUSE_AND_HOME     114\n",
              "13       FOOD_AND_DRINK     128\n",
              "3   BOOKS_AND_REFERENCE     134\n",
              "8             EDUCATION     216\n",
              "23      PERSONALIZATION     217\n",
              "18            LIFESTYLE     261\n",
              "4              BUSINESS     342\n",
              "29                TOOLS     347\n",
              "20              MEDICAL     358\n",
              "6         COMMUNICATION     372\n",
              "27               SOCIAL     400\n",
              "26             SHOPPING     422\n",
              "12              FINANCE     442\n",
              "24          PHOTOGRAPHY     485\n",
              "15   HEALTH_AND_FITNESS     577\n",
              "9         ENTERTAINMENT     588\n",
              "25         PRODUCTIVITY     596\n",
              "21   NEWS_AND_MAGAZINES     646\n",
              "7                DATING     697\n",
              "30     TRAVEL_AND_LOCAL     760\n",
              "28               SPORTS     821\n",
              "11               FAMILY    1559\n",
              "14                 GAME    7270"
            ],
            "text/html": [
              "\n",
              "  <div id=\"df-20116f95-e13c-469f-bc8b-96ee8069a1d8\">\n",
              "    <div class=\"colab-df-container\">\n",
              "      <div>\n",
              "<style scoped>\n",
              "    .dataframe tbody tr th:only-of-type {\n",
              "        vertical-align: middle;\n",
              "    }\n",
              "\n",
              "    .dataframe tbody tr th {\n",
              "        vertical-align: top;\n",
              "    }\n",
              "\n",
              "    .dataframe thead th {\n",
              "        text-align: right;\n",
              "    }\n",
              "</style>\n",
              "<table border=\"1\" class=\"dataframe\">\n",
              "  <thead>\n",
              "    <tr style=\"text-align: right;\">\n",
              "      <th></th>\n",
              "      <th>Categories</th>\n",
              "      <th>Counts</th>\n",
              "    </tr>\n",
              "  </thead>\n",
              "  <tbody>\n",
              "    <tr>\n",
              "      <th>5</th>\n",
              "      <td>COMICS</td>\n",
              "      <td>2</td>\n",
              "    </tr>\n",
              "    <tr>\n",
              "      <th>10</th>\n",
              "      <td>EVENTS</td>\n",
              "      <td>16</td>\n",
              "    </tr>\n",
              "    <tr>\n",
              "      <th>1</th>\n",
              "      <td>AUTO_AND_VEHICLES</td>\n",
              "      <td>17</td>\n",
              "    </tr>\n",
              "    <tr>\n",
              "      <th>22</th>\n",
              "      <td>PARENTING</td>\n",
              "      <td>23</td>\n",
              "    </tr>\n",
              "    <tr>\n",
              "      <th>19</th>\n",
              "      <td>MAPS_AND_NAVIGATION</td>\n",
              "      <td>27</td>\n",
              "    </tr>\n",
              "    <tr>\n",
              "      <th>32</th>\n",
              "      <td>WEATHER</td>\n",
              "      <td>33</td>\n",
              "    </tr>\n",
              "    <tr>\n",
              "      <th>17</th>\n",
              "      <td>LIBRARIES_AND_DEMO</td>\n",
              "      <td>51</td>\n",
              "    </tr>\n",
              "    <tr>\n",
              "      <th>0</th>\n",
              "      <td>ART_AND_DESIGN</td>\n",
              "      <td>61</td>\n",
              "    </tr>\n",
              "    <tr>\n",
              "      <th>2</th>\n",
              "      <td>BEAUTY</td>\n",
              "      <td>65</td>\n",
              "    </tr>\n",
              "    <tr>\n",
              "      <th>31</th>\n",
              "      <td>VIDEO_PLAYERS</td>\n",
              "      <td>83</td>\n",
              "    </tr>\n",
              "    <tr>\n",
              "      <th>16</th>\n",
              "      <td>HOUSE_AND_HOME</td>\n",
              "      <td>114</td>\n",
              "    </tr>\n",
              "    <tr>\n",
              "      <th>13</th>\n",
              "      <td>FOOD_AND_DRINK</td>\n",
              "      <td>128</td>\n",
              "    </tr>\n",
              "    <tr>\n",
              "      <th>3</th>\n",
              "      <td>BOOKS_AND_REFERENCE</td>\n",
              "      <td>134</td>\n",
              "    </tr>\n",
              "    <tr>\n",
              "      <th>8</th>\n",
              "      <td>EDUCATION</td>\n",
              "      <td>216</td>\n",
              "    </tr>\n",
              "    <tr>\n",
              "      <th>23</th>\n",
              "      <td>PERSONALIZATION</td>\n",
              "      <td>217</td>\n",
              "    </tr>\n",
              "    <tr>\n",
              "      <th>18</th>\n",
              "      <td>LIFESTYLE</td>\n",
              "      <td>261</td>\n",
              "    </tr>\n",
              "    <tr>\n",
              "      <th>4</th>\n",
              "      <td>BUSINESS</td>\n",
              "      <td>342</td>\n",
              "    </tr>\n",
              "    <tr>\n",
              "      <th>29</th>\n",
              "      <td>TOOLS</td>\n",
              "      <td>347</td>\n",
              "    </tr>\n",
              "    <tr>\n",
              "      <th>20</th>\n",
              "      <td>MEDICAL</td>\n",
              "      <td>358</td>\n",
              "    </tr>\n",
              "    <tr>\n",
              "      <th>6</th>\n",
              "      <td>COMMUNICATION</td>\n",
              "      <td>372</td>\n",
              "    </tr>\n",
              "    <tr>\n",
              "      <th>27</th>\n",
              "      <td>SOCIAL</td>\n",
              "      <td>400</td>\n",
              "    </tr>\n",
              "    <tr>\n",
              "      <th>26</th>\n",
              "      <td>SHOPPING</td>\n",
              "      <td>422</td>\n",
              "    </tr>\n",
              "    <tr>\n",
              "      <th>12</th>\n",
              "      <td>FINANCE</td>\n",
              "      <td>442</td>\n",
              "    </tr>\n",
              "    <tr>\n",
              "      <th>24</th>\n",
              "      <td>PHOTOGRAPHY</td>\n",
              "      <td>485</td>\n",
              "    </tr>\n",
              "    <tr>\n",
              "      <th>15</th>\n",
              "      <td>HEALTH_AND_FITNESS</td>\n",
              "      <td>577</td>\n",
              "    </tr>\n",
              "    <tr>\n",
              "      <th>9</th>\n",
              "      <td>ENTERTAINMENT</td>\n",
              "      <td>588</td>\n",
              "    </tr>\n",
              "    <tr>\n",
              "      <th>25</th>\n",
              "      <td>PRODUCTIVITY</td>\n",
              "      <td>596</td>\n",
              "    </tr>\n",
              "    <tr>\n",
              "      <th>21</th>\n",
              "      <td>NEWS_AND_MAGAZINES</td>\n",
              "      <td>646</td>\n",
              "    </tr>\n",
              "    <tr>\n",
              "      <th>7</th>\n",
              "      <td>DATING</td>\n",
              "      <td>697</td>\n",
              "    </tr>\n",
              "    <tr>\n",
              "      <th>30</th>\n",
              "      <td>TRAVEL_AND_LOCAL</td>\n",
              "      <td>760</td>\n",
              "    </tr>\n",
              "    <tr>\n",
              "      <th>28</th>\n",
              "      <td>SPORTS</td>\n",
              "      <td>821</td>\n",
              "    </tr>\n",
              "    <tr>\n",
              "      <th>11</th>\n",
              "      <td>FAMILY</td>\n",
              "      <td>1559</td>\n",
              "    </tr>\n",
              "    <tr>\n",
              "      <th>14</th>\n",
              "      <td>GAME</td>\n",
              "      <td>7270</td>\n",
              "    </tr>\n",
              "  </tbody>\n",
              "</table>\n",
              "</div>\n",
              "      <button class=\"colab-df-convert\" onclick=\"convertToInteractive('df-20116f95-e13c-469f-bc8b-96ee8069a1d8')\"\n",
              "              title=\"Convert this dataframe to an interactive table.\"\n",
              "              style=\"display:none;\">\n",
              "        \n",
              "  <svg xmlns=\"http://www.w3.org/2000/svg\" height=\"24px\"viewBox=\"0 0 24 24\"\n",
              "       width=\"24px\">\n",
              "    <path d=\"M0 0h24v24H0V0z\" fill=\"none\"/>\n",
              "    <path d=\"M18.56 5.44l.94 2.06.94-2.06 2.06-.94-2.06-.94-.94-2.06-.94 2.06-2.06.94zm-11 1L8.5 8.5l.94-2.06 2.06-.94-2.06-.94L8.5 2.5l-.94 2.06-2.06.94zm10 10l.94 2.06.94-2.06 2.06-.94-2.06-.94-.94-2.06-.94 2.06-2.06.94z\"/><path d=\"M17.41 7.96l-1.37-1.37c-.4-.4-.92-.59-1.43-.59-.52 0-1.04.2-1.43.59L10.3 9.45l-7.72 7.72c-.78.78-.78 2.05 0 2.83L4 21.41c.39.39.9.59 1.41.59.51 0 1.02-.2 1.41-.59l7.78-7.78 2.81-2.81c.8-.78.8-2.07 0-2.86zM5.41 20L4 18.59l7.72-7.72 1.47 1.35L5.41 20z\"/>\n",
              "  </svg>\n",
              "      </button>\n",
              "      \n",
              "  <style>\n",
              "    .colab-df-container {\n",
              "      display:flex;\n",
              "      flex-wrap:wrap;\n",
              "      gap: 12px;\n",
              "    }\n",
              "\n",
              "    .colab-df-convert {\n",
              "      background-color: #E8F0FE;\n",
              "      border: none;\n",
              "      border-radius: 50%;\n",
              "      cursor: pointer;\n",
              "      display: none;\n",
              "      fill: #1967D2;\n",
              "      height: 32px;\n",
              "      padding: 0 0 0 0;\n",
              "      width: 32px;\n",
              "    }\n",
              "\n",
              "    .colab-df-convert:hover {\n",
              "      background-color: #E2EBFA;\n",
              "      box-shadow: 0px 1px 2px rgba(60, 64, 67, 0.3), 0px 1px 3px 1px rgba(60, 64, 67, 0.15);\n",
              "      fill: #174EA6;\n",
              "    }\n",
              "\n",
              "    [theme=dark] .colab-df-convert {\n",
              "      background-color: #3B4455;\n",
              "      fill: #D2E3FC;\n",
              "    }\n",
              "\n",
              "    [theme=dark] .colab-df-convert:hover {\n",
              "      background-color: #434B5C;\n",
              "      box-shadow: 0px 1px 3px 1px rgba(0, 0, 0, 0.15);\n",
              "      filter: drop-shadow(0px 1px 2px rgba(0, 0, 0, 0.3));\n",
              "      fill: #FFFFFF;\n",
              "    }\n",
              "  </style>\n",
              "\n",
              "      <script>\n",
              "        const buttonEl =\n",
              "          document.querySelector('#df-20116f95-e13c-469f-bc8b-96ee8069a1d8 button.colab-df-convert');\n",
              "        buttonEl.style.display =\n",
              "          google.colab.kernel.accessAllowed ? 'block' : 'none';\n",
              "\n",
              "        async function convertToInteractive(key) {\n",
              "          const element = document.querySelector('#df-20116f95-e13c-469f-bc8b-96ee8069a1d8');\n",
              "          const dataTable =\n",
              "            await google.colab.kernel.invokeFunction('convertToInteractive',\n",
              "                                                     [key], {});\n",
              "          if (!dataTable) return;\n",
              "\n",
              "          const docLinkHtml = 'Like what you see? Visit the ' +\n",
              "            '<a target=\"_blank\" href=https://colab.research.google.com/notebooks/data_table.ipynb>data table notebook</a>'\n",
              "            + ' to learn more about interactive tables.';\n",
              "          element.innerHTML = '';\n",
              "          dataTable['output_type'] = 'display_data';\n",
              "          await google.colab.output.renderOutput(dataTable, element);\n",
              "          const docLink = document.createElement('div');\n",
              "          docLink.innerHTML = docLinkHtml;\n",
              "          element.appendChild(docLink);\n",
              "        }\n",
              "      </script>\n",
              "    </div>\n",
              "  </div>\n",
              "  "
            ]
          },
          "metadata": {},
          "execution_count": 71
        }
      ]
    },
    {
      "cell_type": "code",
      "source": [
        "#To draw a plot for above mention data we have to provide a fig size\n",
        "Category_Negative_Sentiment_Bar = merged_RJ_df[merged_RJ_df['Sentiment'] == 'Negative'].groupby('Category')['Sentiment'].count().plot.bar(figsize = (20,8),fontsize = 10)\n",
        "\n",
        "# Set the title\n",
        "Category_Negative_Sentiment_Bar.set_title(\"Every Category Negative Sentiments \", fontsize = 25)\n",
        "\n",
        "# Set x and y-labels\n",
        "Category_Negative_Sentiment_Bar.set_xlabel(\"Categories\", fontsize = 20)\n",
        "Category_Negative_Sentiment_Bar.set_ylabel(\"Negative Sentiments\", fontsize = 20)"
      ],
      "metadata": {
        "colab": {
          "base_uri": "https://localhost:8080/",
          "height": 664
        },
        "id": "Pv0oLjxjbn1P",
        "outputId": "6b79e97c-01f6-4190-81ef-5fe9e2d30d05"
      },
      "execution_count": null,
      "outputs": [
        {
          "output_type": "execute_result",
          "data": {
            "text/plain": [
              "Text(0, 0.5, 'Negative Sentiments')"
            ]
          },
          "metadata": {},
          "execution_count": 77
        },
        {
          "output_type": "display_data",
          "data": {
            "text/plain": [
              "<Figure size 1440x576 with 1 Axes>"
            ],
            "image/png": "[encoded data removed]"
          },
          "metadata": {
            "needs_background": "light"
          }
        }
      ]
    },
    {
      "cell_type": "code",
      "source": [
        "print(f'Maximum postive sentiment Category is: {postive_sentiment_max_category.Categories.iloc[-1]} and its count is:{postive_sentiment_max_category.Counts.iloc[-1]}  ')"
      ],
      "metadata": {
        "colab": {
          "base_uri": "https://localhost:8080/"
        },
        "id": "juqHss_hWcv2",
        "outputId": "595fabe8-8184-4b57-cb61-3aa102263bb9"
      },
      "execution_count": null,
      "outputs": [
        {
          "output_type": "stream",
          "name": "stdout",
          "text": [
            "Maximum postive sentiment Category is: GAME and its count is:11041  \n"
          ]
        }
      ]
    },
    {
      "cell_type": "code",
      "source": [
        "print(f'Maximum negative sentiment Category is: {negative_sentiment_max_category.Categories.iloc[-1]} and its count is:{negative_sentiment_max_category.Counts.iloc[-1]}  ')"
      ],
      "metadata": {
        "colab": {
          "base_uri": "https://localhost:8080/"
        },
        "id": "QpIcyC-EZAQV",
        "outputId": "1b83dc6c-47c7-487a-da31-e249eb94dd81"
      },
      "execution_count": null,
      "outputs": [
        {
          "output_type": "stream",
          "name": "stdout",
          "text": [
            "Maximum negative sentiment Category is: GAME and its count is:7270  \n"
          ]
        }
      ]
    },
    {
      "cell_type": "markdown",
      "source": [
        "# **Conclusion:-**"
      ],
      "metadata": {
        "id": "T9MKgi8xG1-Y"
      }
    },
    {
      "cell_type": "markdown",
      "source": [
        "**In this Play Store App Data Analysis project we have given two datasets (Playstore Data and User Review  Data) on which we have to do some operations and analyse the data. So that a meaningful outcomes can be achieved. Hence i have worked on some of the important portion as mentioned above like: Categories having maximum number of installs, specific type of applications listed in data etc. So with all of these analysis User or Android Developer will be able to understand the market.There are some other observations also available that has done by the other members of the team(Available in Team Collab Notebook)**"
      ],
      "metadata": {
        "id": "4HFZZ__5G928"
      }
    }
  ]
}